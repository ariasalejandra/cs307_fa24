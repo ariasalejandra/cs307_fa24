{
 "cells": [
  {
   "cell_type": "markdown",
   "metadata": {},
   "source": [
    "# Lab 10: Fashion MNIST"
   ]
  },
  {
   "cell_type": "markdown",
   "metadata": {},
   "source": [
    "---\n",
    "author: Alejandra Arias\n",
    "date: December 6, 2024\n",
    "embed-resources: true\n",
    "---"
   ]
  },
  {
   "cell_type": "markdown",
   "metadata": {},
   "source": [
    "## Introduction"
   ]
  },
  {
   "cell_type": "markdown",
   "metadata": {},
   "source": []
  },
  {
   "cell_type": "markdown",
   "metadata": {},
   "source": [
    "## Methods"
   ]
  },
  {
   "cell_type": "code",
   "execution_count": 5,
   "metadata": {},
   "outputs": [],
   "source": [
    "# imports\n",
    "import torch\n",
    "from torchvision import datasets\n",
    "from torchvision.transforms import ToTensor\n",
    "\n",
    "# standard imports\n",
    "import matplotlib.pyplot as plt\n",
    "import numpy as np\n",
    "import random\n",
    "\n",
    "# sklearn data\n",
    "from sklearn.datasets import make_blobs\n",
    "from sklearn.datasets import make_circles\n",
    "from sklearn.datasets import make_classification\n",
    "from sklearn.datasets import load_digits\n",
    "from sklearn.model_selection import train_test_split\n",
    "\n",
    "# sklearn models\n",
    "from sklearn.ensemble import RandomForestClassifier\n",
    "\n",
    "# sklearn metrics\n",
    "from sklearn.metrics import accuracy_score\n",
    "from sklearn.metrics import ConfusionMatrixDisplay\n",
    "\n",
    "# pytorch imports\n",
    "import torch\n",
    "from torch import nn\n",
    "from torch.utils.data import DataLoader\n",
    "from torchvision import datasets\n",
    "from torchvision.transforms import ToTensor"
   ]
  },
  {
   "cell_type": "markdown",
   "metadata": {},
   "source": [
    "### Data"
   ]
  },
  {
   "cell_type": "code",
   "execution_count": 2,
   "metadata": {},
   "outputs": [
    {
     "name": "stdout",
     "output_type": "stream",
     "text": [
      "Downloading http://fashion-mnist.s3-website.eu-central-1.amazonaws.com/train-images-idx3-ubyte.gz\n",
      "Downloading http://fashion-mnist.s3-website.eu-central-1.amazonaws.com/train-images-idx3-ubyte.gz to data\\FashionMNIST\\raw\\train-images-idx3-ubyte.gz\n"
     ]
    },
    {
     "name": "stderr",
     "output_type": "stream",
     "text": [
      "100%|██████████| 26.4M/26.4M [01:08<00:00, 388kB/s] \n"
     ]
    },
    {
     "name": "stdout",
     "output_type": "stream",
     "text": [
      "Extracting data\\FashionMNIST\\raw\\train-images-idx3-ubyte.gz to data\\FashionMNIST\\raw\n",
      "\n",
      "Downloading http://fashion-mnist.s3-website.eu-central-1.amazonaws.com/train-labels-idx1-ubyte.gz\n",
      "Downloading http://fashion-mnist.s3-website.eu-central-1.amazonaws.com/train-labels-idx1-ubyte.gz to data\\FashionMNIST\\raw\\train-labels-idx1-ubyte.gz\n"
     ]
    },
    {
     "name": "stderr",
     "output_type": "stream",
     "text": [
      "100%|██████████| 29.5k/29.5k [00:00<00:00, 102kB/s]\n"
     ]
    },
    {
     "name": "stdout",
     "output_type": "stream",
     "text": [
      "Extracting data\\FashionMNIST\\raw\\train-labels-idx1-ubyte.gz to data\\FashionMNIST\\raw\n",
      "\n",
      "Downloading http://fashion-mnist.s3-website.eu-central-1.amazonaws.com/t10k-images-idx3-ubyte.gz\n",
      "Downloading http://fashion-mnist.s3-website.eu-central-1.amazonaws.com/t10k-images-idx3-ubyte.gz to data\\FashionMNIST\\raw\\t10k-images-idx3-ubyte.gz\n"
     ]
    },
    {
     "name": "stderr",
     "output_type": "stream",
     "text": [
      "100%|██████████| 4.42M/4.42M [00:05<00:00, 812kB/s] \n"
     ]
    },
    {
     "name": "stdout",
     "output_type": "stream",
     "text": [
      "Extracting data\\FashionMNIST\\raw\\t10k-images-idx3-ubyte.gz to data\\FashionMNIST\\raw\n",
      "\n",
      "Downloading http://fashion-mnist.s3-website.eu-central-1.amazonaws.com/t10k-labels-idx1-ubyte.gz\n",
      "Downloading http://fashion-mnist.s3-website.eu-central-1.amazonaws.com/t10k-labels-idx1-ubyte.gz to data\\FashionMNIST\\raw\\t10k-labels-idx1-ubyte.gz\n"
     ]
    },
    {
     "name": "stderr",
     "output_type": "stream",
     "text": [
      "100%|██████████| 5.15k/5.15k [00:00<?, ?B/s]"
     ]
    },
    {
     "name": "stdout",
     "output_type": "stream",
     "text": [
      "Extracting data\\FashionMNIST\\raw\\t10k-labels-idx1-ubyte.gz to data\\FashionMNIST\\raw\n",
      "\n"
     ]
    },
    {
     "name": "stderr",
     "output_type": "stream",
     "text": [
      "\n"
     ]
    }
   ],
   "source": [
    "# load data\n",
    "\n",
    "# download training data from open datasets\n",
    "training_data = datasets.FashionMNIST(\n",
    "    root=\"data\",\n",
    "    train=True,\n",
    "    download=True,\n",
    "    transform=ToTensor(),\n",
    ")\n",
    "\n",
    "# download test data from open datasets\n",
    "test_data = datasets.FashionMNIST(\n",
    "    root=\"data\",\n",
    "    train=False,\n",
    "    download=True,\n",
    "    transform=ToTensor(),\n",
    ")"
   ]
  },
  {
   "cell_type": "code",
   "execution_count": 3,
   "metadata": {},
   "outputs": [],
   "source": [
    "classes = [\n",
    "    \"T-shirt/top\",\n",
    "    \"Trouser\",\n",
    "    \"Pullover\",\n",
    "    \"Dress\",\n",
    "    \"Coat\",\n",
    "    \"Sandal\",\n",
    "    \"Shirt\",\n",
    "    \"Sneaker\",\n",
    "    \"Bag\",\n",
    "    \"Ankle boot\",\n",
    "]"
   ]
  },
  {
   "cell_type": "markdown",
   "metadata": {},
   "source": []
  },
  {
   "cell_type": "code",
   "execution_count": 20,
   "metadata": {},
   "outputs": [
    {
     "data": {
      "text/plain": [
       "Dataset FashionMNIST\n",
       "    Number of datapoints: 60000\n",
       "    Root location: data\n",
       "    Split: Train\n",
       "    StandardTransform\n",
       "Transform: ToTensor()"
      ]
     },
     "execution_count": 20,
     "metadata": {},
     "output_type": "execute_result"
    }
   ],
   "source": [
    "# summary statistics\n",
    "training_data"
   ]
  },
  {
   "cell_type": "code",
   "execution_count": 11,
   "metadata": {},
   "outputs": [
    {
     "name": "stdout",
     "output_type": "stream",
     "text": [
      "Using cpu device for training!\n"
     ]
    }
   ],
   "source": [
    "# visualizations\n",
    "# get cpu, gpu or mps device for training\n",
    "if torch.cuda.is_available():\n",
    "    device = \"cuda\"\n",
    "elif torch.backends.mps.is_available():\n",
    "    device = \"mps\"\n",
    "else:\n",
    "    device = \"cpu\"\n",
    "\n",
    "print(f\"Using {device} device for training!\")"
   ]
  },
  {
   "cell_type": "markdown",
   "metadata": {},
   "source": []
  },
  {
   "cell_type": "markdown",
   "metadata": {},
   "source": [
    "### Models"
   ]
  },
  {
   "cell_type": "code",
   "execution_count": 41,
   "metadata": {},
   "outputs": [
    {
     "name": "stdout",
     "output_type": "stream",
     "text": [
      "Shape of X [N, C, H, W]: torch.Size([64, 1, 28, 28])\n",
      "Shape of y: torch.Size([64]) torch.int64\n"
     ]
    }
   ],
   "source": [
    "# define batch size\n",
    "batch_size = 64\n",
    "\n",
    "# create train data loader\n",
    "train_dataloader = DataLoader(\n",
    "    training_data,\n",
    "    batch_size=batch_size,\n",
    ")\n",
    "\n",
    "# create test data loader\n",
    "test_dataloader = DataLoader(\n",
    "    test_data,\n",
    "    batch_size=batch_size,\n",
    ")\n",
    "\n",
    "# check data shapes\n",
    "for X, y in test_dataloader:\n",
    "    print(f\"Shape of X [N, C, H, W]: {X.shape}\")\n",
    "    print(f\"Shape of y: {y.shape} {y.dtype}\")\n",
    "    break\n"
   ]
  },
  {
   "cell_type": "code",
   "execution_count": 36,
   "metadata": {},
   "outputs": [
    {
     "name": "stdout",
     "output_type": "stream",
     "text": [
      "NeuralNetwork(\n",
      "  (flatten): Flatten(start_dim=1, end_dim=-1)\n",
      "  (linear_relu_stack): Sequential(\n",
      "    (0): Linear(in_features=784, out_features=512, bias=True)\n",
      "    (1): ReLU()\n",
      "    (2): Linear(in_features=512, out_features=512, bias=True)\n",
      "    (3): ReLU()\n",
      "    (4): Linear(in_features=512, out_features=10, bias=True)\n",
      "  )\n",
      ")\n"
     ]
    }
   ],
   "source": [
    "\n",
    "# define model\n",
    "class NeuralNetwork(nn.Module):\n",
    "    def __init__(self):\n",
    "        super().__init__()\n",
    "        self.flatten = nn.Flatten()\n",
    "        self.linear_relu_stack = nn.Sequential(\n",
    "            nn.Linear(28 * 28, 512),\n",
    "            nn.ReLU(),\n",
    "            nn.Linear(512, 512),\n",
    "            nn.ReLU(),\n",
    "            nn.Linear(512, 10),\n",
    "        )\n",
    "\n",
    "    def forward(self, x):\n",
    "        x = self.flatten(x)\n",
    "        logits = self.linear_relu_stack(x)\n",
    "        return logits\n",
    "\n",
    "\n",
    "# send model to compute device\n",
    "model = NeuralNetwork().to(device)\n",
    "\n",
    "# check model structure\n",
    "print(model)"
   ]
  },
  {
   "cell_type": "code",
   "execution_count": 37,
   "metadata": {},
   "outputs": [],
   "source": [
    "loss_fn = nn.CrossEntropyLoss()\n",
    "optimizer = torch.optim.SGD(model.parameters(), lr=1e-3)"
   ]
  },
  {
   "cell_type": "code",
   "execution_count": 38,
   "metadata": {},
   "outputs": [],
   "source": [
    "# define train loop\n",
    "def train(dataloader, model, loss_fn, optimizer):\n",
    "    size = len(dataloader.dataset)\n",
    "    model.train()\n",
    "    for batch, (X, y) in enumerate(dataloader):\n",
    "        X, y = X.to(device), y.to(device)\n",
    "\n",
    "        # compute prediction error\n",
    "        pred = model(X)\n",
    "        loss = loss_fn(pred, y)\n",
    "\n",
    "        # backpropagation\n",
    "        loss.backward()\n",
    "        optimizer.step()\n",
    "        optimizer.zero_grad()\n",
    "\n",
    "        if batch % 100 == 0:\n",
    "            loss, current = loss.item(), (batch + 1) * len(X)\n",
    "            print(f\"loss: {loss:>7f}  [{current:>5d}/{size:>5d}]\")"
   ]
  },
  {
   "cell_type": "code",
   "execution_count": 39,
   "metadata": {},
   "outputs": [],
   "source": [
    "# define test loop\n",
    "def test(dataloader, model, loss_fn):\n",
    "    size = len(dataloader.dataset)\n",
    "    num_batches = len(dataloader)\n",
    "    model.eval()\n",
    "    test_loss, correct = 0, 0\n",
    "    with torch.no_grad():\n",
    "        for X, y in dataloader:\n",
    "            X, y = X.to(device), y.to(device)\n",
    "            pred = model(X)\n",
    "            test_loss += loss_fn(pred, y).item()\n",
    "            correct += (pred.argmax(1) == y).type(torch.float).sum().item()\n",
    "    test_loss /= num_batches\n",
    "    correct /= size\n",
    "    print(f\"Test Error: \\n Accuracy: {(100*correct):>0.1f}%, Avg loss: {test_loss:>8f} \\n\")"
   ]
  },
  {
   "cell_type": "code",
   "execution_count": 43,
   "metadata": {},
   "outputs": [
    {
     "name": "stdout",
     "output_type": "stream",
     "text": [
      "Epoch 1\n",
      "-------------------------------\n",
      "loss: 0.587142  [   64/60000]\n",
      "loss: 0.684800  [ 6464/60000]\n",
      "loss: 0.469634  [12864/60000]\n",
      "loss: 0.702026  [19264/60000]\n",
      "loss: 0.635299  [25664/60000]\n",
      "loss: 0.607768  [32064/60000]\n",
      "loss: 0.654702  [38464/60000]\n",
      "loss: 0.700093  [44864/60000]\n",
      "loss: 0.687465  [51264/60000]\n",
      "loss: 0.628154  [57664/60000]\n",
      "Test Error: \n",
      " Accuracy: 78.0%, Avg loss: 0.629011 \n",
      "\n",
      "Epoch 2\n",
      "-------------------------------\n",
      "loss: 0.571699  [   64/60000]\n",
      "loss: 0.669896  [ 6464/60000]\n",
      "loss: 0.457732  [12864/60000]\n",
      "loss: 0.691034  [19264/60000]\n",
      "loss: 0.627558  [25664/60000]\n",
      "loss: 0.599772  [32064/60000]\n",
      "loss: 0.641573  [38464/60000]\n",
      "loss: 0.693417  [44864/60000]\n",
      "loss: 0.680301  [51264/60000]\n",
      "loss: 0.617719  [57664/60000]\n",
      "Test Error: \n",
      " Accuracy: 78.2%, Avg loss: 0.618596 \n",
      "\n",
      "Epoch 3\n",
      "-------------------------------\n",
      "loss: 0.557627  [   64/60000]\n",
      "loss: 0.656138  [ 6464/60000]\n",
      "loss: 0.446768  [12864/60000]\n",
      "loss: 0.680701  [19264/60000]\n",
      "loss: 0.620416  [25664/60000]\n",
      "loss: 0.592572  [32064/60000]\n",
      "loss: 0.629485  [38464/60000]\n",
      "loss: 0.687660  [44864/60000]\n",
      "loss: 0.674250  [51264/60000]\n",
      "loss: 0.607948  [57664/60000]\n",
      "Test Error: \n",
      " Accuracy: 78.6%, Avg loss: 0.609004 \n",
      "\n",
      "Epoch 4\n",
      "-------------------------------\n",
      "loss: 0.544701  [   64/60000]\n",
      "loss: 0.643453  [ 6464/60000]\n",
      "loss: 0.436723  [12864/60000]\n",
      "loss: 0.670973  [19264/60000]\n",
      "loss: 0.613742  [25664/60000]\n",
      "loss: 0.586010  [32064/60000]\n",
      "loss: 0.618324  [38464/60000]\n",
      "loss: 0.682753  [44864/60000]\n",
      "loss: 0.669135  [51264/60000]\n",
      "loss: 0.598695  [57664/60000]\n",
      "Test Error: \n",
      " Accuracy: 78.9%, Avg loss: 0.600159 \n",
      "\n",
      "Epoch 5\n",
      "-------------------------------\n",
      "loss: 0.532875  [   64/60000]\n",
      "loss: 0.631752  [ 6464/60000]\n",
      "loss: 0.427487  [12864/60000]\n",
      "loss: 0.661765  [19264/60000]\n",
      "loss: 0.607404  [25664/60000]\n",
      "loss: 0.579942  [32064/60000]\n",
      "loss: 0.608012  [38464/60000]\n",
      "loss: 0.678636  [44864/60000]\n",
      "loss: 0.664822  [51264/60000]\n",
      "loss: 0.589896  [57664/60000]\n",
      "Test Error: \n",
      " Accuracy: 79.2%, Avg loss: 0.591981 \n",
      "\n",
      "Epoch 6\n",
      "-------------------------------\n",
      "loss: 0.521888  [   64/60000]\n",
      "loss: 0.620884  [ 6464/60000]\n",
      "loss: 0.418926  [12864/60000]\n",
      "loss: 0.653030  [19264/60000]\n",
      "loss: 0.601369  [25664/60000]\n",
      "loss: 0.574287  [32064/60000]\n",
      "loss: 0.598448  [38464/60000]\n",
      "loss: 0.675268  [44864/60000]\n",
      "loss: 0.661152  [51264/60000]\n",
      "loss: 0.581526  [57664/60000]\n",
      "Test Error: \n",
      " Accuracy: 79.6%, Avg loss: 0.584409 \n",
      "\n",
      "Epoch 7\n",
      "-------------------------------\n",
      "loss: 0.511643  [   64/60000]\n",
      "loss: 0.610837  [ 6464/60000]\n",
      "loss: 0.410992  [12864/60000]\n",
      "loss: 0.644765  [19264/60000]\n",
      "loss: 0.595484  [25664/60000]\n",
      "loss: 0.568936  [32064/60000]\n",
      "loss: 0.589580  [38464/60000]\n",
      "loss: 0.672677  [44864/60000]\n",
      "loss: 0.658014  [51264/60000]\n",
      "loss: 0.573560  [57664/60000]\n",
      "Test Error: \n",
      " Accuracy: 79.8%, Avg loss: 0.577387 \n",
      "\n",
      "Epoch 8\n",
      "-------------------------------\n",
      "loss: 0.502020  [   64/60000]\n",
      "loss: 0.601492  [ 6464/60000]\n",
      "loss: 0.403583  [12864/60000]\n",
      "loss: 0.636916  [19264/60000]\n",
      "loss: 0.589653  [25664/60000]\n",
      "loss: 0.563880  [32064/60000]\n",
      "loss: 0.581433  [38464/60000]\n",
      "loss: 0.670670  [44864/60000]\n",
      "loss: 0.655192  [51264/60000]\n",
      "loss: 0.565847  [57664/60000]\n",
      "Test Error: \n",
      " Accuracy: 80.0%, Avg loss: 0.570866 \n",
      "\n",
      "Epoch 9\n",
      "-------------------------------\n",
      "loss: 0.492999  [   64/60000]\n",
      "loss: 0.592819  [ 6464/60000]\n",
      "loss: 0.396654  [12864/60000]\n",
      "loss: 0.629447  [19264/60000]\n",
      "loss: 0.583890  [25664/60000]\n",
      "loss: 0.559103  [32064/60000]\n",
      "loss: 0.573893  [38464/60000]\n",
      "loss: 0.669018  [44864/60000]\n",
      "loss: 0.652695  [51264/60000]\n",
      "loss: 0.558461  [57664/60000]\n",
      "Test Error: \n",
      " Accuracy: 80.2%, Avg loss: 0.564797 \n",
      "\n",
      "Epoch 10\n",
      "-------------------------------\n",
      "loss: 0.484494  [   64/60000]\n",
      "loss: 0.584768  [ 6464/60000]\n",
      "loss: 0.390159  [12864/60000]\n",
      "loss: 0.622394  [19264/60000]\n",
      "loss: 0.578163  [25664/60000]\n",
      "loss: 0.554570  [32064/60000]\n",
      "loss: 0.566880  [38464/60000]\n",
      "loss: 0.667794  [44864/60000]\n",
      "loss: 0.650344  [51264/60000]\n",
      "loss: 0.551302  [57664/60000]\n",
      "Test Error: \n",
      " Accuracy: 80.5%, Avg loss: 0.559131 \n",
      "\n",
      "Epoch 11\n",
      "-------------------------------\n",
      "loss: 0.476486  [   64/60000]\n",
      "loss: 0.577277  [ 6464/60000]\n",
      "loss: 0.384085  [12864/60000]\n",
      "loss: 0.615695  [19264/60000]\n",
      "loss: 0.572500  [25664/60000]\n",
      "loss: 0.550155  [32064/60000]\n",
      "loss: 0.560341  [38464/60000]\n",
      "loss: 0.666910  [44864/60000]\n",
      "loss: 0.648214  [51264/60000]\n",
      "loss: 0.544338  [57664/60000]\n",
      "Test Error: \n",
      " Accuracy: 80.6%, Avg loss: 0.553835 \n",
      "\n",
      "Epoch 12\n",
      "-------------------------------\n",
      "loss: 0.468870  [   64/60000]\n",
      "loss: 0.570334  [ 6464/60000]\n",
      "loss: 0.378366  [12864/60000]\n",
      "loss: 0.609296  [19264/60000]\n",
      "loss: 0.566899  [25664/60000]\n",
      "loss: 0.545838  [32064/60000]\n",
      "loss: 0.554231  [38464/60000]\n",
      "loss: 0.666372  [44864/60000]\n",
      "loss: 0.646172  [51264/60000]\n",
      "loss: 0.537586  [57664/60000]\n",
      "Test Error: \n",
      " Accuracy: 80.9%, Avg loss: 0.548878 \n",
      "\n",
      "Epoch 13\n",
      "-------------------------------\n",
      "loss: 0.461551  [   64/60000]\n",
      "loss: 0.563912  [ 6464/60000]\n",
      "loss: 0.372955  [12864/60000]\n",
      "loss: 0.603152  [19264/60000]\n",
      "loss: 0.561380  [25664/60000]\n",
      "loss: 0.541537  [32064/60000]\n",
      "loss: 0.548588  [38464/60000]\n",
      "loss: 0.666059  [44864/60000]\n",
      "loss: 0.644177  [51264/60000]\n",
      "loss: 0.530999  [57664/60000]\n",
      "Test Error: \n",
      " Accuracy: 80.9%, Avg loss: 0.544229 \n",
      "\n",
      "Epoch 14\n",
      "-------------------------------\n",
      "loss: 0.454565  [   64/60000]\n",
      "loss: 0.557903  [ 6464/60000]\n",
      "loss: 0.367863  [12864/60000]\n",
      "loss: 0.597294  [19264/60000]\n",
      "loss: 0.555939  [25664/60000]\n",
      "loss: 0.537296  [32064/60000]\n",
      "loss: 0.543383  [38464/60000]\n",
      "loss: 0.666008  [44864/60000]\n",
      "loss: 0.642250  [51264/60000]\n",
      "loss: 0.524552  [57664/60000]\n",
      "Test Error: \n",
      " Accuracy: 81.1%, Avg loss: 0.539859 \n",
      "\n",
      "Epoch 15\n",
      "-------------------------------\n",
      "loss: 0.447861  [   64/60000]\n",
      "loss: 0.552351  [ 6464/60000]\n",
      "loss: 0.363072  [12864/60000]\n",
      "loss: 0.591697  [19264/60000]\n",
      "loss: 0.550505  [25664/60000]\n",
      "loss: 0.533069  [32064/60000]\n",
      "loss: 0.538580  [38464/60000]\n",
      "loss: 0.666039  [44864/60000]\n",
      "loss: 0.640325  [51264/60000]\n",
      "loss: 0.518317  [57664/60000]\n",
      "Test Error: \n",
      " Accuracy: 81.2%, Avg loss: 0.535742 \n",
      "\n",
      "Epoch 16\n",
      "-------------------------------\n",
      "loss: 0.441425  [   64/60000]\n",
      "loss: 0.547138  [ 6464/60000]\n",
      "loss: 0.358497  [12864/60000]\n",
      "loss: 0.586353  [19264/60000]\n",
      "loss: 0.545166  [25664/60000]\n",
      "loss: 0.528914  [32064/60000]\n",
      "loss: 0.534085  [38464/60000]\n",
      "loss: 0.666059  [44864/60000]\n",
      "loss: 0.638444  [51264/60000]\n",
      "loss: 0.512330  [57664/60000]\n",
      "Test Error: \n",
      " Accuracy: 81.2%, Avg loss: 0.531845 \n",
      "\n",
      "Epoch 17\n",
      "-------------------------------\n",
      "loss: 0.435234  [   64/60000]\n",
      "loss: 0.542327  [ 6464/60000]\n",
      "loss: 0.354148  [12864/60000]\n",
      "loss: 0.581180  [19264/60000]\n",
      "loss: 0.539897  [25664/60000]\n",
      "loss: 0.524857  [32064/60000]\n",
      "loss: 0.529819  [38464/60000]\n",
      "loss: 0.666050  [44864/60000]\n",
      "loss: 0.636539  [51264/60000]\n",
      "loss: 0.506536  [57664/60000]\n",
      "Test Error: \n",
      " Accuracy: 81.4%, Avg loss: 0.528179 \n",
      "\n",
      "Epoch 18\n",
      "-------------------------------\n",
      "loss: 0.429318  [   64/60000]\n",
      "loss: 0.537881  [ 6464/60000]\n",
      "loss: 0.350048  [12864/60000]\n",
      "loss: 0.576219  [19264/60000]\n",
      "loss: 0.534722  [25664/60000]\n",
      "loss: 0.520887  [32064/60000]\n",
      "loss: 0.525862  [38464/60000]\n",
      "loss: 0.666071  [44864/60000]\n",
      "loss: 0.634600  [51264/60000]\n",
      "loss: 0.501003  [57664/60000]\n",
      "Test Error: \n",
      " Accuracy: 81.5%, Avg loss: 0.524719 \n",
      "\n",
      "Epoch 19\n",
      "-------------------------------\n",
      "loss: 0.423654  [   64/60000]\n",
      "loss: 0.533738  [ 6464/60000]\n",
      "loss: 0.346199  [12864/60000]\n",
      "loss: 0.571468  [19264/60000]\n",
      "loss: 0.529667  [25664/60000]\n",
      "loss: 0.516965  [32064/60000]\n",
      "loss: 0.522147  [38464/60000]\n",
      "loss: 0.666037  [44864/60000]\n",
      "loss: 0.632688  [51264/60000]\n",
      "loss: 0.495659  [57664/60000]\n",
      "Test Error: \n",
      " Accuracy: 81.6%, Avg loss: 0.521441 \n",
      "\n",
      "Epoch 20\n",
      "-------------------------------\n",
      "loss: 0.418174  [   64/60000]\n",
      "loss: 0.529848  [ 6464/60000]\n",
      "loss: 0.342542  [12864/60000]\n",
      "loss: 0.566873  [19264/60000]\n",
      "loss: 0.524702  [25664/60000]\n",
      "loss: 0.513061  [32064/60000]\n",
      "loss: 0.518612  [38464/60000]\n",
      "loss: 0.665963  [44864/60000]\n",
      "loss: 0.630743  [51264/60000]\n",
      "loss: 0.490529  [57664/60000]\n",
      "Test Error: \n",
      " Accuracy: 81.7%, Avg loss: 0.518329 \n",
      "\n",
      "Done!\n"
     ]
    }
   ],
   "source": [
    "# train model\n",
    "epochs = 20\n",
    "for t in range(epochs):\n",
    "    print(f\"Epoch {t+1}\\n-------------------------------\")\n",
    "    train(train_dataloader, model, loss_fn, optimizer)\n",
    "    test(test_dataloader, model, loss_fn)\n",
    "print(\"Done!\")"
   ]
  },
  {
   "cell_type": "markdown",
   "metadata": {},
   "source": []
  },
  {
   "cell_type": "markdown",
   "metadata": {},
   "source": [
    "## Results"
   ]
  },
  {
   "cell_type": "code",
   "execution_count": 21,
   "metadata": {},
   "outputs": [],
   "source": [
    "# report model metrics\n",
    "# convert to TorchScript\n",
    "model_scripted = torch.jit.script(model)\n",
    "\n",
    "# write to disk\n",
    "model_scripted.save(\"fashion-mnist.pt\")"
   ]
  },
  {
   "cell_type": "code",
   "execution_count": 27,
   "metadata": {},
   "outputs": [
    {
     "data": {
      "image/png": "[encoded data removed]",
      "text/plain": [
       "<Figure size 1000x500 with 3 Axes>"
      ]
     },
     "metadata": {},
     "output_type": "display_data"
    }
   ],
   "source": [
    "# get a batch of training data\n",
    "batch = next(iter(train_dataloader))\n",
    "images, labels = batch\n",
    "\n",
    "# plot the first three images in the batch\n",
    "fig, axs = plt.subplots(1, 3, figsize=(10, 5))\n",
    "for i in range(3):\n",
    "    axs[i].set_axis_off()\n",
    "    axs[i].imshow(images[i].squeeze(), cmap=plt.cm.gray_r)\n",
    "    axs[i].set_title(f\"Label: {labels[i]}\")\n",
    "plt.show()"
   ]
  },
  {
   "cell_type": "markdown",
   "metadata": {},
   "source": []
  },
  {
   "cell_type": "markdown",
   "metadata": {},
   "source": [
    "## Discussion"
   ]
  },
  {
   "cell_type": "markdown",
   "metadata": {},
   "source": []
  },
  {
   "cell_type": "markdown",
   "metadata": {},
   "source": [
    "### Conclusion"
   ]
  },
  {
   "cell_type": "markdown",
   "metadata": {},
   "source": []
  }
 ],
 "metadata": {
  "kernelspec": {
   "display_name": "Python 3",
   "language": "python",
   "name": "python3"
  },
  "language_info": {
   "codemirror_mode": {
    "name": "ipython",
    "version": 3
   },
   "file_extension": ".py",
   "mimetype": "text/x-python",
   "name": "python",
   "nbconvert_exporter": "python",
   "pygments_lexer": "ipython3",
   "version": "3.10.11"
  }
 },
 "nbformat": 4,
 "nbformat_minor": 2
}
