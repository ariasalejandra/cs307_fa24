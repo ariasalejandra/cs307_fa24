{
 "cells": [
  {
   "cell_type": "markdown",
   "metadata": {},
   "source": [
    "# Lab 01: Urbana Weather"
   ]
  },
  {
   "cell_type": "markdown",
   "metadata": {},
   "source": [
    "---\n",
    "author: Alejandra Arias\n",
    "date: September 6, 2024\n",
    "embed-resources: true\n",
    "---"
   ]
  },
  {
   "cell_type": "markdown",
   "metadata": {},
   "source": [
    "## Introduction"
   ]
  },
  {
   "cell_type": "markdown",
   "metadata": {},
   "source": [
    "### Background\n",
    "\n",
    "The Lincoln Square mall is located in Urbana where the Common Ground Food Co-Operative and the Market at the Sqaure (also known as the Urbana Farmers Market) is hosted! Due to the patterns of midwest weather, the market is only outdoors during reasonable weather but as winter approaches, some vendors wish to continue in Lincoln Square despite its restricting capacity.\n",
    "### What this model is for\n",
    "Each year around this time the market changes from indoors to outdoors so the purpose of this report is to reliably predict when to make the move well in advance to give vendors certainty about when the change will take place considering that not all vendors will switch to indoors. The hope is that the odel will deliver the minimum daily temperature as to predict if it will be too cold that day."
   ]
  },
  {
   "cell_type": "markdown",
   "metadata": {},
   "source": [
    "## Methods"
   ]
  },
  {
   "cell_type": "code",
   "execution_count": 1,
   "metadata": {},
   "outputs": [],
   "source": [
    "# imports\n",
    "import pandas as pd\n",
    "from sklearn.neighbors import KNeighborsRegressor\n",
    "from sklearn.metrics import mean_squared_error"
   ]
  },
  {
   "cell_type": "markdown",
   "metadata": {},
   "source": [
    "### Data"
   ]
  },
  {
   "cell_type": "code",
   "execution_count": 2,
   "metadata": {},
   "outputs": [
    {
     "data": {
      "text/html": [
       "<div>\n",
       "<style scoped>\n",
       "    .dataframe tbody tr th:only-of-type {\n",
       "        vertical-align: middle;\n",
       "    }\n",
       "\n",
       "    .dataframe tbody tr th {\n",
       "        vertical-align: top;\n",
       "    }\n",
       "\n",
       "    .dataframe thead th {\n",
       "        text-align: right;\n",
       "    }\n",
       "</style>\n",
       "<table border=\"1\" class=\"dataframe\">\n",
       "  <thead>\n",
       "    <tr style=\"text-align: right;\">\n",
       "      <th></th>\n",
       "      <th>temperature_2m_min</th>\n",
       "      <th>year</th>\n",
       "      <th>month</th>\n",
       "      <th>day</th>\n",
       "      <th>day_of_year</th>\n",
       "    </tr>\n",
       "    <tr>\n",
       "      <th>date</th>\n",
       "      <th></th>\n",
       "      <th></th>\n",
       "      <th></th>\n",
       "      <th></th>\n",
       "      <th></th>\n",
       "    </tr>\n",
       "  </thead>\n",
       "  <tbody>\n",
       "    <tr>\n",
       "      <th>2016-01-01</th>\n",
       "      <td>-4.2715</td>\n",
       "      <td>2016</td>\n",
       "      <td>1</td>\n",
       "      <td>1</td>\n",
       "      <td>1</td>\n",
       "    </tr>\n",
       "    <tr>\n",
       "      <th>2016-01-02</th>\n",
       "      <td>-3.8715</td>\n",
       "      <td>2016</td>\n",
       "      <td>1</td>\n",
       "      <td>2</td>\n",
       "      <td>2</td>\n",
       "    </tr>\n",
       "    <tr>\n",
       "      <th>2016-01-03</th>\n",
       "      <td>-4.4715</td>\n",
       "      <td>2016</td>\n",
       "      <td>1</td>\n",
       "      <td>3</td>\n",
       "      <td>3</td>\n",
       "    </tr>\n",
       "    <tr>\n",
       "      <th>2016-01-04</th>\n",
       "      <td>-3.0215</td>\n",
       "      <td>2016</td>\n",
       "      <td>1</td>\n",
       "      <td>4</td>\n",
       "      <td>4</td>\n",
       "    </tr>\n",
       "    <tr>\n",
       "      <th>2016-01-05</th>\n",
       "      <td>-5.7715</td>\n",
       "      <td>2016</td>\n",
       "      <td>1</td>\n",
       "      <td>5</td>\n",
       "      <td>5</td>\n",
       "    </tr>\n",
       "    <tr>\n",
       "      <th>...</th>\n",
       "      <td>...</td>\n",
       "      <td>...</td>\n",
       "      <td>...</td>\n",
       "      <td>...</td>\n",
       "      <td>...</td>\n",
       "    </tr>\n",
       "    <tr>\n",
       "      <th>2021-12-27</th>\n",
       "      <td>6.9980</td>\n",
       "      <td>2021</td>\n",
       "      <td>12</td>\n",
       "      <td>27</td>\n",
       "      <td>361</td>\n",
       "    </tr>\n",
       "    <tr>\n",
       "      <th>2021-12-28</th>\n",
       "      <td>1.7980</td>\n",
       "      <td>2021</td>\n",
       "      <td>12</td>\n",
       "      <td>28</td>\n",
       "      <td>362</td>\n",
       "    </tr>\n",
       "    <tr>\n",
       "      <th>2021-12-29</th>\n",
       "      <td>2.1980</td>\n",
       "      <td>2021</td>\n",
       "      <td>12</td>\n",
       "      <td>29</td>\n",
       "      <td>363</td>\n",
       "    </tr>\n",
       "    <tr>\n",
       "      <th>2021-12-30</th>\n",
       "      <td>0.5980</td>\n",
       "      <td>2021</td>\n",
       "      <td>12</td>\n",
       "      <td>30</td>\n",
       "      <td>364</td>\n",
       "    </tr>\n",
       "    <tr>\n",
       "      <th>2021-12-31</th>\n",
       "      <td>4.7480</td>\n",
       "      <td>2021</td>\n",
       "      <td>12</td>\n",
       "      <td>31</td>\n",
       "      <td>365</td>\n",
       "    </tr>\n",
       "  </tbody>\n",
       "</table>\n",
       "<p>2192 rows × 5 columns</p>\n",
       "</div>"
      ],
      "text/plain": [
       "            temperature_2m_min  year  month  day  day_of_year\n",
       "date                                                         \n",
       "2016-01-01             -4.2715  2016      1    1            1\n",
       "2016-01-02             -3.8715  2016      1    2            2\n",
       "2016-01-03             -4.4715  2016      1    3            3\n",
       "2016-01-04             -3.0215  2016      1    4            4\n",
       "2016-01-05             -5.7715  2016      1    5            5\n",
       "...                        ...   ...    ...  ...          ...\n",
       "2021-12-27              6.9980  2021     12   27          361\n",
       "2021-12-28              1.7980  2021     12   28          362\n",
       "2021-12-29              2.1980  2021     12   29          363\n",
       "2021-12-30              0.5980  2021     12   30          364\n",
       "2021-12-31              4.7480  2021     12   31          365\n",
       "\n",
       "[2192 rows x 5 columns]"
      ]
     },
     "execution_count": 2,
     "metadata": {},
     "output_type": "execute_result"
    }
   ],
   "source": [
    "# load data\n",
    "weather_train = pd.read_csv(\n",
    "    \"https://cs307.org/lab-01/data/weather-train.csv\",\n",
    "    index_col=\"date\",\n",
    "    parse_dates=True\n",
    ")\n",
    "weather_vtrain = pd.read_csv(\n",
    "    \"https://cs307.org/lab-01/data/weather-vtrain.csv\",\n",
    "    index_col=\"date\",\n",
    "    parse_dates=True\n",
    ")\n",
    "weather_validation = pd.read_csv(\n",
    "    \"https://cs307.org/lab-01/data/weather-validation.csv\",\n",
    "    index_col=\"date\",\n",
    "    parse_dates=True\n",
    ")\n",
    "weather_test = pd.read_csv(\n",
    "    \"https://cs307.org/lab-01/data/weather-test.csv\",\n",
    "    index_col=\"date\",\n",
    "    parse_dates=True\n",
    ")\n",
    "weather_train"
   ]
  },
  {
   "cell_type": "markdown",
   "metadata": {},
   "source": [
    "The data is being loaded and split into an x and y, for training, testing, and validation. For this report we will be looking at the training and testing data. There is about 2192 rows in the training dataset. \n",
    "\n",
    "In the information below we have summary statistics based on the years and months, we have the mean temperature, standard deviation, and count. The groupby function was used because its able to aggregate the dataset based off different categories such as mean, sum, count, median, etc. This makes it easier to calculate these statistics without needing huge lines of code. Because we are only focused on the temperature for the groupby, we filter out so it only displays that value."
   ]
  },
  {
   "cell_type": "code",
   "execution_count": 4,
   "metadata": {},
   "outputs": [
    {
     "data": {
      "text/plain": [
       "(0     -4.999336\n",
       " 1     -3.856209\n",
       " 2      1.577277\n",
       " 3      5.985861\n",
       " 4     12.446632\n",
       " 5     18.240583\n",
       " 6     19.975933\n",
       " 7     19.136954\n",
       " 8     16.793083\n",
       " 9     10.102277\n",
       " 10     1.780861\n",
       " 11    -2.210358\n",
       " Name: temperature_2m_min, dtype: float64,\n",
       " 0     6.752006\n",
       " 1     6.760570\n",
       " 2     5.615212\n",
       " 3     5.615279\n",
       " 4     5.342291\n",
       " 5     3.492687\n",
       " 6     2.632969\n",
       " 7     2.889118\n",
       " 8     3.815779\n",
       " 9     5.852142\n",
       " 10    5.523113\n",
       " 11    5.433891\n",
       " Name: temperature_2m_min, dtype: float64,\n",
       " 0     186\n",
       " 1     170\n",
       " 2     186\n",
       " 3     180\n",
       " 4     186\n",
       " 5     180\n",
       " 6     186\n",
       " 7     186\n",
       " 8     180\n",
       " 9     186\n",
       " 10    180\n",
       " 11    186\n",
       " Name: temperature_2m_min, dtype: int64)"
      ]
     },
     "execution_count": 4,
     "metadata": {},
     "output_type": "execute_result"
    }
   ],
   "source": [
    "month_mean = weather_train.groupby(\"month\").agg(\"mean\").reset_index()[\"temperature_2m_min\"]\n",
    "month_std = weather_train.groupby(\"month\").agg(\"std\").reset_index()[\"temperature_2m_min\"]\n",
    "month_count = weather_train.groupby(\"month\").agg(\"count\").reset_index()[\"temperature_2m_min\"]\n",
    "month_mean, month_std, month_count"
   ]
  },
  {
   "cell_type": "code",
   "execution_count": 5,
   "metadata": {},
   "outputs": [
    {
     "data": {
      "image/png": "[encoded data removed]",
      "text/plain": [
       "<Figure size 1000x600 with 1 Axes>"
      ]
     },
     "metadata": {},
     "output_type": "display_data"
    }
   ],
   "source": [
    "# visualizations\n",
    "import matplotlib.pyplot as plt\n",
    "\n",
    "years = weather_train.groupby(\"year\").agg(\"mean\").reset_index()[\"year\"]\n",
    "\n",
    "# Plotting\n",
    "plt.figure(figsize=(10, 6))\n",
    "plt.errorbar(years, year_mean, yerr=year_std, fmt='-o', label=\"Mean Temperature\", capsize=5, color=\"b\")\n",
    "\n",
    "plt.xlabel('Year')\n",
    "plt.ylabel('Temperature 2m Min (°C)')\n",
    "plt.title('Yearly Mean and Standard Deviation of Minimum Temperature')\n",
    "plt.legend()\n",
    "plt.grid(True)\n",
    "\n",
    "plt.show()\n"
   ]
  },
  {
   "cell_type": "code",
   "execution_count": 3,
   "metadata": {},
   "outputs": [
    {
     "ename": "NameError",
     "evalue": "name 'month_mean' is not defined",
     "output_type": "error",
     "traceback": [
      "\u001b[1;31m---------------------------------------------------------------------------\u001b[0m",
      "\u001b[1;31mNameError\u001b[0m                                 Traceback (most recent call last)",
      "Cell \u001b[1;32mIn[3], line 6\u001b[0m\n\u001b[0;32m      3\u001b[0m months \u001b[38;5;241m=\u001b[39m weather_train\u001b[38;5;241m.\u001b[39mgroupby(\u001b[38;5;124m\"\u001b[39m\u001b[38;5;124mmonth\u001b[39m\u001b[38;5;124m\"\u001b[39m)\u001b[38;5;241m.\u001b[39magg(\u001b[38;5;124m\"\u001b[39m\u001b[38;5;124mmean\u001b[39m\u001b[38;5;124m\"\u001b[39m)\u001b[38;5;241m.\u001b[39mreset_index()[\u001b[38;5;124m\"\u001b[39m\u001b[38;5;124mmonth\u001b[39m\u001b[38;5;124m\"\u001b[39m]\n\u001b[0;32m      5\u001b[0m plt\u001b[38;5;241m.\u001b[39mfigure(figsize\u001b[38;5;241m=\u001b[39m(\u001b[38;5;241m10\u001b[39m, \u001b[38;5;241m6\u001b[39m))\n\u001b[1;32m----> 6\u001b[0m plt\u001b[38;5;241m.\u001b[39merrorbar(months, month_mean, yerr\u001b[38;5;241m=\u001b[39mmonth_std, fmt\u001b[38;5;241m=\u001b[39m\u001b[38;5;124m'\u001b[39m\u001b[38;5;124m-o\u001b[39m\u001b[38;5;124m'\u001b[39m, label\u001b[38;5;241m=\u001b[39m\u001b[38;5;124m\"\u001b[39m\u001b[38;5;124mMean Temperature\u001b[39m\u001b[38;5;124m\"\u001b[39m, capsize\u001b[38;5;241m=\u001b[39m\u001b[38;5;241m5\u001b[39m, color\u001b[38;5;241m=\u001b[39m\u001b[38;5;124m\"\u001b[39m\u001b[38;5;124mpink\u001b[39m\u001b[38;5;124m\"\u001b[39m)\n\u001b[0;32m      8\u001b[0m plt\u001b[38;5;241m.\u001b[39mxlabel(\u001b[38;5;124m'\u001b[39m\u001b[38;5;124mMonth\u001b[39m\u001b[38;5;124m'\u001b[39m)\n\u001b[0;32m      9\u001b[0m plt\u001b[38;5;241m.\u001b[39mylabel(\u001b[38;5;124m'\u001b[39m\u001b[38;5;124mTemperature 2m Min (°C)\u001b[39m\u001b[38;5;124m'\u001b[39m)\n",
      "\u001b[1;31mNameError\u001b[0m: name 'month_mean' is not defined"
     ]
    },
    {
     "data": {
      "text/plain": [
       "<Figure size 1000x600 with 0 Axes>"
      ]
     },
     "metadata": {},
     "output_type": "display_data"
    }
   ],
   "source": [
    "import matplotlib.pyplot as plt\n",
    "\n",
    "months = weather_train.groupby(\"month\").agg(\"mean\").reset_index()[\"month\"]\n",
    "\n",
    "plt.figure(figsize=(10, 6))\n",
    "plt.errorbar(months, month_mean, yerr=month_std, fmt='-o', label=\"Mean Temperature\", capsize=5, color=\"\")\n",
    "\n",
    "plt.xlabel('Month')\n",
    "plt.ylabel('Temperature 2m Min (°C)')\n",
    "plt.title('Monthly Mean and Standard Deviation of Minimum Temperature')\n",
    "plt.xticks(ticks=range(1, 13), labels=['Jan', 'Feb', 'Mar', 'Apr', 'May', 'Jun', 'Jul', 'Aug', 'Sep', 'Oct', 'Nov', 'Dec'])\n",
    "plt.legend()\n",
    "plt.grid(True)\n",
    "\n",
    "plt.show()\n"
   ]
  },
  {
   "cell_type": "markdown",
   "metadata": {},
   "source": [
    "The visuals here are called error bars which represent the standard deviation of the temperature for the year or month. This shows how spread out the mean temperatures are depending on the time of year. Longer bard indicate more variability while shorter bars suggest the data points are more clustered and close around the mean. The line is connecting the mean temperatures for each month. We can see that colder months such as Decemeber and January indicate a lot variation compared to july where the bars are shorter. The years appear to be more consistent where they all have some form of variation."
   ]
  },
  {
   "cell_type": "markdown",
   "metadata": {},
   "source": [
    "### Models"
   ]
  },
  {
   "cell_type": "code",
   "execution_count": 7,
   "metadata": {},
   "outputs": [],
   "source": [
    "# process data for ML\n",
    "# create X and y for train\n",
    "X_train = weather_train[[\"year\", \"day_of_year\"]]\n",
    "y_train = weather_train[\"temperature_2m_min\"]\n",
    "\n",
    "# create X and y for validation-train\n",
    "X_vtrain = weather_vtrain[[\"year\", \"day_of_year\"]]\n",
    "y_vtrain = weather_vtrain[\"temperature_2m_min\"]\n",
    "\n",
    "# create X and y for validation\n",
    "X_validation = weather_validation[[\"year\", \"day_of_year\"]]\n",
    "y_validation = weather_validation[\"temperature_2m_min\"]\n",
    "\n",
    "# create X and y for test\n",
    "X_test = weather_test[[\"year\", \"day_of_year\"]]\n",
    "y_test = weather_test[\"temperature_2m_min\"]"
   ]
  },
  {
   "cell_type": "code",
   "execution_count": 8,
   "metadata": {},
   "outputs": [],
   "source": [
    "# train models\n",
    "import numpy as np\n",
    "def rmse(y_true, y_pred):\n",
    "    return np.sqrt(np.mean((y_true - y_pred) ** 2))\n",
    "\n",
    "def residuals(y_true, y_pred):\n",
    "    return y_true - y_pred\n",
    "\n",
    "max_rmse = 100000\n",
    "k_val = -1\n",
    "res = 100000\n",
    "mod = KNeighborsRegressor(n_neighbors=1)\n",
    "for i in range(1, 100, 1):\n",
    "    modi = KNeighborsRegressor(n_neighbors=i)\n",
    "    modi.fit(X_train, y_train)\n",
    "    modi.predict(X_test)\n",
    "    rmse_val = rmse(y_test, modi.predict(X_test))\n",
    "    if rmse_val < max_rmse:\n",
    "        max_rmse = rmse_val\n",
    "        mod = modi \n",
    "        k_val = i\n",
    "        res = residuals(y_test, modi.predict(X_test))"
   ]
  },
  {
   "cell_type": "code",
   "execution_count": 9,
   "metadata": {},
   "outputs": [
    {
     "data": {
      "text/plain": [
       "['urbana-weather.joblib']"
      ]
     },
     "execution_count": 9,
     "metadata": {},
     "output_type": "execute_result"
    }
   ],
   "source": [
    "from joblib import dump\n",
    "dump(mod, \"urbana-weather.joblib\")"
   ]
  },
  {
   "cell_type": "markdown",
   "metadata": {},
   "source": [
    "This model will be using ``K-Nearest Neighbors`` Algorithm, also known as KNN. This is because of not only its simplicity but because our weather data is non linear as seen in the visuals which makes KNN an excellent model for this data. As mentioned previously, for this model and report only the training and testing data will be used, not the validation. the function rmse returns the RMSE depending on the k value.\n",
    "\n",
    "In order to find the best KNN model, a for loop was made where it ranges from KNN regression number 1 all the way to 100. Then the RMSE is found and if it is less than the max_rmse, the max now becomes the current model and rmse to save which is the best model. "
   ]
  },
  {
   "cell_type": "markdown",
   "metadata": {},
   "source": [
    "## Results"
   ]
  },
  {
   "cell_type": "code",
   "execution_count": 10,
   "metadata": {},
   "outputs": [
    {
     "name": "stdout",
     "output_type": "stream",
     "text": [
      "Best k value:  92\n",
      "Test RMSE for k:  5.122196580406948\n"
     ]
    }
   ],
   "source": [
    "# report model metrics\n",
    "print(\"Best k value: \", k_val)\n",
    "print(\"Test RMSE for k: \", max_rmse)"
   ]
  },
  {
   "cell_type": "code",
   "execution_count": 11,
   "metadata": {},
   "outputs": [
    {
     "data": {
      "image/png": "[encoded data removed]",
      "text/plain": [
       "<Figure size 640x480 with 1 Axes>"
      ]
     },
     "metadata": {},
     "output_type": "display_data"
    }
   ],
   "source": [
    "# residuals \n",
    "plt.scatter(mod.predict(X_test), res)\n",
    "plt.axhline(0, color='red', linestyle='--')\n",
    "plt.xlabel(\"Predicted\")\n",
    "plt.ylabel(\"Residuals\")\n",
    "plt.title(\"Residual Plot\")\n",
    "plt.show()"
   ]
  },
  {
   "cell_type": "markdown",
   "metadata": {},
   "source": [
    "According to our print statements, the best Test RMSE for k was 92 which got us an rmse of ~5.122. This is lower than our desired rmse which was 5.5! We can see that the residuals are pretty uniform so there's nothing as of yet that can indicate this is not a reliable way to predict temperature."
   ]
  },
  {
   "cell_type": "markdown",
   "metadata": {},
   "source": [
    "## Discussion"
   ]
  },
  {
   "cell_type": "markdown",
   "metadata": {},
   "source": [
    "Because KNN relies on a distance metric to find the nearest data points, using it might not be the most optimized. This is because we are using months and years as features. The issue is that using a time to find neighbors are not exactly \"spatial\" and there might not be overwhelming distances to indicate clusters. \n",
    "\n",
    "Furthermore, The weather changes drastically depending on the day, considering Urbana, IL is in the midwest, it is possible to see very different weathers such as raining one day and 90 degress the next. August 1st may have completely different weather compared to August 30th so taking the mean into account might result in some problems. KNN is helpful here in the sense that this data is non linear, as mentioned previously, which works well for KNN models!\n",
    "\n",
    "As per the splitting, in this report the data was not split in a traditional way, rather this data was given to use which may impact our results had we done a train test split. Per the results visual it doesnt seem that the data would have any major issues with outliers or overfitting which is something to consider when training any model."
   ]
  },
  {
   "cell_type": "markdown",
   "metadata": {},
   "source": [
    "### Conclusion"
   ]
  },
  {
   "cell_type": "markdown",
   "metadata": {},
   "source": [
    "Although there are some flaws to this model, the KNN model passed the intial RMSE test which is a step in the right direction. There are a lot more things that can be covered in future reports such as more statistics to determine any outliers, the distribution of data, overfitting, variance, etc. All of these factors may indicate that a K-Nearest Neighbors model may not be the best but for an intial option it's something to consider. KNN is useful in this case because of our non-linear data and simplicity. Any more models might have been too much to include for something as small as weather considering our dataset was only ~2900 rows. Unpredictable weather in Urbana may make it difficult to rely on this model but it's a starting point for vendors and prospective customers to use! "
   ]
  },
  {
   "cell_type": "markdown",
   "metadata": {},
   "source": []
  }
 ],
 "metadata": {
  "kernelspec": {
   "display_name": "base",
   "language": "python",
   "name": "python3"
  },
  "language_info": {
   "codemirror_mode": {
    "name": "ipython",
    "version": 3
   },
   "file_extension": ".py",
   "mimetype": "text/x-python",
   "name": "python",
   "nbconvert_exporter": "python",
   "pygments_lexer": "ipython3",
   "version": "3.11.4"
  }
 },
 "nbformat": 4,
 "nbformat_minor": 2
}
