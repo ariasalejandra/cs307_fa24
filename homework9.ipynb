{
 "cells": [
  {
   "cell_type": "code",
   "execution_count": 1,
   "metadata": {},
   "outputs": [
    {
     "data": {
      "text/plain": [
       "(0.8552631578947368,\n",
       " 0.14473684210526316,\n",
       " 0.6704322200392927,\n",
       " 0.3295677799607073)"
      ]
     },
     "execution_count": 1,
     "metadata": {},
     "output_type": "execute_result"
    }
   ],
   "source": [
    "# Known probabilities\n",
    "pi_a = 0.78  # P(Y = A)\n",
    "pi_b = 0.22  # P(Y = B)\n",
    "\n",
    "P_X_given_A_1 = 0.35  # P(X = 1 | Y = A)\n",
    "P_X_given_B_1 = 0.61  # P(X = 1 | Y = B)\n",
    "\n",
    "# Calculate P(X = 0 | Y = A) and P(X = 0 | Y = B)\n",
    "P_X_given_A_0 = 1 - P_X_given_A_1\n",
    "P_X_given_B_0 = 1 - P_X_given_B_1\n",
    "\n",
    "# Total probability for P(X = 0) and P(X = 1)\n",
    "P_X_0 = (P_X_given_A_0 * pi_a) + (P_X_given_B_0 * pi_b)\n",
    "P_X_1 = (P_X_given_A_1 * pi_a) + (P_X_given_B_1 * pi_b)\n",
    "\n",
    "# Conditional probabilities using Bayes' Theorem\n",
    "P_Y_A_given_X_0 = (P_X_given_A_0 * pi_a) / P_X_0\n",
    "P_Y_B_given_X_0 = (P_X_given_B_0 * pi_b) / P_X_0\n",
    "\n",
    "P_Y_A_given_X_1 = (P_X_given_A_1 * pi_a) / P_X_1\n",
    "P_Y_B_given_X_1 = (P_X_given_B_1 * pi_b) / P_X_1\n",
    "\n",
    "P_Y_A_given_X_0, P_Y_B_given_X_0, P_Y_A_given_X_1, P_Y_B_given_X_1\n"
   ]
  },
  {
   "cell_type": "code",
   "execution_count": 1,
   "metadata": {},
   "outputs": [
    {
     "data": {
      "text/plain": [
       "{2.57: ('A',\n",
       "  {'A': 0.19669210165843148,\n",
       "   'B': 0.07406721849637803,\n",
       "   'C': 0.0018334166359873262}),\n",
       " 4.71: ('B',\n",
       "  {'A': 0.005882839598976504,\n",
       "   'B': 0.05259247448894991,\n",
       "   'C': 0.006480393542253461}),\n",
       " 4.12: ('B',\n",
       "  {'A': 0.02445634203782678,\n",
       "   'B': 0.064798699839767,\n",
       "   'C': 0.005129425888512407})}"
      ]
     },
     "execution_count": 1,
     "metadata": {},
     "output_type": "execute_result"
    }
   ],
   "source": [
    "import math\n",
    "# Parameters for the classes\n",
    "params = {\n",
    "    \"A\": {\"mu\": 2, \"sigma\": 1, \"prior\": 0.58},\n",
    "    \"B\": {\"mu\": 3, \"sigma\": 2, \"prior\": 0.38},\n",
    "    \"C\": {\"mu\": 6, \"sigma\": 2, \"prior\": 0.04},\n",
    "}\n",
    "\n",
    "# Observed values\n",
    "x_values = [2.57, 4.71, 4.12]\n",
    "\n",
    "def likelihood(x, mu, sigma):\n",
    "    return (1 / (math.sqrt(2 * math.pi) * sigma)) * math.exp(-((x - mu) ** 2) / (2 * sigma**2))\n",
    "\n",
    "# Compute the Bayes Classifier output\n",
    "def bayes_classifier(x, params):\n",
    "    # Compute scores for each class\n",
    "    scores = {\n",
    "        label: likelihood(x, params[label][\"mu\"], params[label][\"sigma\"]) * params[label][\"prior\"]\n",
    "        for label in params\n",
    "    }\n",
    "    # Return the class with the highest score\n",
    "    return max(scores, key=scores.get), scores\n",
    "\n",
    "# Evaluate classifier for each observed x\n",
    "classifier_results = {x: bayes_classifier(x, params) for x in x_values}\n",
    "classifier_results"
   ]
  },
  {
   "cell_type": "code",
   "execution_count": 2,
   "metadata": {},
   "outputs": [
    {
     "data": {
      "text/plain": [
       "(0.540080411814865, 0.45991958818513495)"
      ]
     },
     "execution_count": 2,
     "metadata": {},
     "output_type": "execute_result"
    }
   ],
   "source": [
    "# Re-importing necessary libraries and recalculating due to execution environment reset\n",
    "import numpy as np\n",
    "from scipy.stats import multivariate_normal\n",
    "\n",
    "# Given data\n",
    "pi_A = 0.78  # P(Y = A)\n",
    "pi_B = 0.22  # P(Y = B)\n",
    "\n",
    "mu_A = np.array([4.2, 4.6, 5.6])\n",
    "mu_B = np.array([2.7, 5.0, 8.8])\n",
    "\n",
    "Sigma_A = np.diag([9, 4, 4])\n",
    "Sigma_B = np.diag([9, 4, 4])\n",
    "\n",
    "X = np.array([2.1, 4.0, 8.4])  # Data point to evaluate\n",
    "\n",
    "# Multivariate Normal PDF\n",
    "p_X_given_A = multivariate_normal.pdf(X, mean=mu_A, cov=Sigma_A)\n",
    "p_X_given_B = multivariate_normal.pdf(X, mean=mu_B, cov=Sigma_B)\n",
    "\n",
    "# Total probability P(X)\n",
    "p_X = p_X_given_A * pi_A + p_X_given_B * pi_B\n",
    "\n",
    "# Posterior probabilities using Bayes' theorem\n",
    "p_A_given_X = (p_X_given_A * pi_A) / p_X\n",
    "p_B_given_X = (p_X_given_B * pi_B) / p_X\n",
    "\n",
    "p_A_given_X, p_B_given_X\n"
   ]
  },
  {
   "cell_type": "code",
   "execution_count": null,
   "metadata": {},
   "outputs": [
    {
     "name": "stdout",
     "output_type": "stream",
     "text": [
      "Class Priors:\n",
      "n_A: 32\n",
      "n_B: 18\n",
      "P(A): 0.64\n",
      "P(B): 0.36\n",
      "\n",
      "Means and Variances for Class A:\n",
      "μ_x1|Y=A: 4.453125\n",
      "σ^2_x1|Y=A: 0.9298804946739124\n",
      "μ_x2|Y=A: 4.5353125\n",
      "σ^2_x2|Y=A: 0.8659459580965487\n",
      "\n",
      "Means and Variances for Class B:\n",
      "μ_x1|Y=B: 7.895555555555556\n",
      "σ^2_x1|Y=B: 0.7542930628683775\n",
      "μ_x2|Y=B: 6.408888888888889\n",
      "σ^2_x2|Y=B: 0.8083308514662165\n",
      "\n",
      "Posteriors for point (4.65, 6.73):\n",
      "P(A | x): 0.9983395211507877\n",
      "P(B | x): 0.001660478849212366\n",
      "\n",
      "Posteriors for point (4.38, 7.67):\n",
      "P(A | x): 0.9970421175374431\n",
      "P(B | x): 0.0029578824625568255\n"
     ]
    }
   ],
   "source": [
    "import numpy as np\n",
    "import pandas as pd\n",
    "from scipy.stats import norm\n",
    "\n",
    "x_1 = np.array([4.78, 3.51, 7.88, 5.32, 4.94, 8.52, 8.52, 8.02, 8.31, 2.44, 6.83, 7.16, 8.68, 8.13, 8.96, 4.84, 5.08, 4.58, 4.45, 4., 7.95, 3.65, 4.79, 5.48, 4.07, 4.06, 8.85, 4.36, 4.06, 6.51, 5.16, 6.99, 4.37, 4.56, 5.04, 5.96, 2.4, 8.7, 3.59, 4.93, 7.18, 2.86, 3.5, 4.67, 7.91, 6.35, 7.18, 5.29, 5.57, 3.68])\n",
    "x_2 = x_2 = np.array([4.08, 3.96, 6.23, 6.26, 5.92, 7.34, 6.64, 7.92, 6.31, 5.29, 7.23, 6.29, 7.39, 6.35, 6.28, 4.98, 3.49, 4.45, 4.51, 4.35, 5.13, 5.15, 3.37, 3.67, 3.42, 4.63, 4.99, 2.4, 4.24, 4.8, 5.67, 6.24, 4.51, 5.28, 4.35, 5.28, 4.92, 5.12, 2.95, 5.73, 7.34, 4.25, 3.62, 5.26, 5.76, 6.07, 6.73, 4.6, 4.96, 4.78])\n",
    "A, B = \"A\", \"B\"\n",
    "y = y = np.array([A, A, B, A, A, B, B, B, B, A, B, B, B, B, B, A, A, A, A, A, B, A, A, A, A, A, B, A, A, A, A, B, A, A, A, A, A, B, A, A, B, A, A, A, B, B, B, A, A, A])\n",
    "df = pd.DataFrame({'y': y, 'x_1': x_1, 'x_2': x_2})\n",
    "\n",
    "data_A = df[df['y'] == A]\n",
    "data_B = df[df['y'] == B]\n",
    "\n",
    "P_A = len(data_A) / len(df)\n",
    "P_B = len(data_B) / len(df)\n",
    "\n",
    "# Means and stds\n",
    "means_A = data_A[['x_1', 'x_2']].mean()\n",
    "std_devs_A = data_A[['x_1', 'x_2']].std(ddof=0)  # Standard deviation not VARIANCE!!!!\n",
    "\n",
    "means_B = data_B[['x_1', 'x_2']].mean()\n",
    "std_devs_B = data_B[['x_1', 'x_2']].std(ddof=0) # Standard deviation not VARIANCE!!!\n",
    "\n",
    "# change this to the x1 and x2\n",
    "points = [(4.65, 6.73), (4.38, 7.67)]\n",
    "\n",
    "posteriors = []\n",
    "def compute_posterior(x1, x2):\n",
    "    likelihood_A = norm.pdf(x1, means_A['x_1'], std_devs_A['x_1']) * norm.pdf(x2, means_A['x_2'], std_devs_A['x_2'])\n",
    "    likelihood_B = norm.pdf(x1, means_B['x_1'], std_devs_B['x_1']) * norm.pdf(x2, means_B['x_2'], std_devs_B['x_2'])\n",
    "    total_probability = (P_A * likelihood_A) + (P_B * likelihood_B)\n",
    "    posterior_A = (P_A * likelihood_A) / total_probability\n",
    "    posterior_B = (P_B * likelihood_B) / total_probability\n",
    "    return posterior_A, posterior_B\n",
    "\n",
    "for point in points:\n",
    "    posteriors.append(compute_posterior(point[0], point[1]))\n",
    "\n",
    "# Report results\n",
    "print(\"Class Priors:\")\n",
    "print(f\"n_A: {len(data_A)}\")\n",
    "print(f\"n_B: {len(data_B)}\")\n",
    "print(f\"P(A): {P_A}\")\n",
    "print(f\"P(B): {P_B}\\n\")\n",
    "\n",
    "print(\"Means and Variances for Class A:\")\n",
    "print(f\"\\u03BC_x1|Y=A: {means_A['x_1']}\")\n",
    "print(f\"\\u03C3^2_x1|Y=A: {std_devs_A['x_1']}\")\n",
    "print(f\"\\u03BC_x2|Y=A: {means_A['x_2']}\")\n",
    "print(f\"\\u03C3^2_x2|Y=A: {std_devs_A['x_2']}\")\n",
    "\n",
    "print(\"\\nMeans and Variances for Class B:\")\n",
    "print(f\"\\u03BC_x1|Y=B: {means_B['x_1']}\")\n",
    "print(f\"\\u03C3^2_x1|Y=B: {std_devs_B['x_1']}\")\n",
    "print(f\"\\u03BC_x2|Y=B: {means_B['x_2']}\")\n",
    "print(f\"\\u03C3^2_x2|Y=B: {std_devs_B['x_2']}\")\n",
    "\n",
    "for i, point in enumerate(points):\n",
    "    print(f\"\\nPosteriors for point {point}:\")\n",
    "    print(f\"P(A | x): {posteriors[i][0]}\")\n",
    "    print(f\"P(B | x): {posteriors[i][1]}\")\n"
   ]
  },
  {
   "cell_type": "code",
   "execution_count": 31,
   "metadata": {},
   "outputs": [
    {
     "data": {
      "text/plain": [
       "x_1    0.929880\n",
       "x_2    0.865946\n",
       "dtype: float64"
      ]
     },
     "execution_count": 31,
     "metadata": {},
     "output_type": "execute_result"
    }
   ],
   "source": [
    "std_devs_A\n"
   ]
  },
  {
   "cell_type": "code",
   "execution_count": null,
   "metadata": {},
   "outputs": [
    {
     "name": "stdout",
     "output_type": "stream",
     "text": [
      "Initial Cost: 37.884899999999995\n",
      "Responsibility Matrix:\n",
      "[[0. 0. 1.]\n",
      " [0. 0. 1.]\n",
      " [0. 0. 1.]\n",
      " [0. 0. 1.]\n",
      " [1. 0. 0.]\n",
      " [0. 0. 1.]\n",
      " [0. 0. 1.]\n",
      " [1. 0. 0.]\n",
      " [0. 1. 0.]\n",
      " [0. 1. 0.]\n",
      " [0. 1. 0.]\n",
      " [0. 1. 0.]]\n",
      "Updated Cost: 18.756100000000007\n"
     ]
    }
   ],
   "source": [
    "import numpy as np\n",
    "\n",
    "# replace these values\n",
    "d = np.array([[2.21, 3.96], [2.34, 3.12], [0.34, 4.0], [1.82, 2.84], [4.56, 5.32], [1.82, 4.31], [2.99, 4.55], [4.18, 4.59], [6.49, 2.8], [4.6, 3.24], [5.97, 2.26], [5.49, 3.75]])\n",
    "c = np.array([[3.84, 3.84], [4.6, 3.52], [2.26, 3.82]])\n",
    "r = np.array([[1.0, 0.0, 0.0], [0.0, 0.0, 1.0], [0.0, 0.0, 1.0], [0.0, 0.0, 1.0], [0.0, 0.0, 1.0], [0.0, 1.0, 0.0], [1.0, 0.0, 0.0], [1.0, 0.0, 0.0], [0.0, 1.0, 0.0], [0.0, 1.0, 0.0], [1.0, 0.0, 0.0], [0.0, 1.0, 0.0]])\n",
    "\n",
    "\n",
    "def compute_cost(X, centroids, labels):\n",
    "    cost = 0\n",
    "    n = len(X)\n",
    "    for i in range(n):\n",
    "        k = np.argmax(labels[i])  \n",
    "        cost += np.linalg.norm(X[i] - centroids[k]) ** 2\n",
    "    \n",
    "    return cost\n",
    "\n",
    "\n",
    "initial_cost = compute_cost(d, c, r)\n",
    "print(f\"Initial Cost: {initial_cost}\")\n",
    "\n",
    "\n",
    "def e_step_kmeans(X, centroids):\n",
    "    N, K = len(X), len(centroids)\n",
    "    r = np.zeros((N, K))  \n",
    "    for i, x in enumerate(X):\n",
    "        distances = np.linalg.norm(x - centroids, axis=1) \n",
    "        closest_cluster = np.argmin(distances)  \n",
    "        r[i, closest_cluster] = 1  #\n",
    "\n",
    "    return r\n",
    "\n",
    "responsibilities = e_step_kmeans(d, c)\n",
    "print(\"Responsibility Matrix:\")\n",
    "print(responsibilities)\n",
    "updated_cost = compute_cost(d, c, responsibilities)\n",
    "print(f\"Updated Cost: {updated_cost}\")\n"
   ]
  },
  {
   "cell_type": "code",
   "execution_count": 4,
   "metadata": {},
   "outputs": [
    {
     "name": "stdout",
     "output_type": "stream",
     "text": [
      "Updated Centroids:\n",
      "[[3.475      2.42833333]\n",
      " [3.074      5.562     ]\n",
      " [6.88       3.01      ]]\n",
      "Initial Cost: 43.961200000000005\n",
      "Cost After M-Step: 20.61643333333333\n"
     ]
    }
   ],
   "source": [
    "import numpy as np\n",
    "\n",
    "# replace this\n",
    "d = np.array([[1.79, 3.14], [2.35, 3.25], [2.66, 2.49], [3.06, 4.62], [4.29, 6.55], \n",
    "              [2.31, 4.84], [2.93, 4.89], [2.78, 6.91], [3.9, 1.58], [6.88, 3.01], \n",
    "              [5.01, 2.93], [5.14, 1.18]])\n",
    "r = np.array([[1.0, 0.0, 0.0], [1.0, 0.0, 0.0], [1.0, 0.0, 0.0], [0.0, 1.0, 0.0], \n",
    "              [0.0, 1.0, 0.0], [0.0, 1.0, 0.0], [0.0, 1.0, 0.0], [0.0, 1.0, 0.0], \n",
    "              [1.0, 0.0, 0.0], [0.0, 0.0, 1.0], [1.0, 0.0, 0.0], [1.0, 0.0, 0.0]])\n",
    "\n",
    "c = np.array([[3.7, 3.41], [3.32, 4.39], [3.75, 3.55]])\n",
    "\n",
    "def compute_cost(X, centroids, responsibilities):\n",
    "    cost = 0\n",
    "    for i, x in enumerate(X):\n",
    "        assigned_cluster = np.argmax(responsibilities[i]) \n",
    "        cost += np.linalg.norm(x - centroids[assigned_cluster]) ** 2\n",
    "    return cost\n",
    "\n",
    "def m_step_kmeans(X, responsibilities):\n",
    "    K = responsibilities.shape[1]\n",
    "    new_centroids = np.zeros((K, X.shape[1]))\n",
    "    \n",
    "    for k in range(K):\n",
    "        r_k = responsibilities[:, k] \n",
    "        denominator = np.sum(r_k) \n",
    "        if denominator > 0: \n",
    "            new_centroids[k] = np.sum(X * r_k[:, np.newaxis], axis=0) / denominator\n",
    "        else:\n",
    "            new_centroids[k] = c[k] \n",
    "    \n",
    "    return new_centroids\n",
    "\n",
    "\n",
    "updated_centroids = m_step_kmeans(d, r)\n",
    "updated_cost = compute_cost(d, updated_centroids, r)\n",
    "\n",
    "print(\"Updated Centroids:\")\n",
    "print(updated_centroids)\n",
    "initial_cost = compute_cost(d, c, r)\n",
    "print(f\"Initial Cost: {initial_cost}\")\n",
    "print(f\"Cost After M-Step: {updated_cost}\")\n",
    "\n"
   ]
  },
  {
   "cell_type": "code",
   "execution_count": null,
   "metadata": {},
   "outputs": [],
   "source": []
  }
 ],
 "metadata": {
  "kernelspec": {
   "display_name": "base",
   "language": "python",
   "name": "python3"
  },
  "language_info": {
   "codemirror_mode": {
    "name": "ipython",
    "version": 3
   },
   "file_extension": ".py",
   "mimetype": "text/x-python",
   "name": "python",
   "nbconvert_exporter": "python",
   "pygments_lexer": "ipython3",
   "version": "3.11.4"
  }
 },
 "nbformat": 4,
 "nbformat_minor": 2
}
