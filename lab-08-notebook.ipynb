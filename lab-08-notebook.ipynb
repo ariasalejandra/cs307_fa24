{
 "cells": [
  {
   "cell_type": "markdown",
   "metadata": {},
   "source": [
    "# Lab 08: Airline Tweets Sentiment Analysis"
   ]
  },
  {
   "cell_type": "markdown",
   "metadata": {},
   "source": [
    "---\n",
    "author: Alejandra Arias\n",
    "date: November 8, 2024\n",
    "embed-resources: true\n",
    "---"
   ]
  },
  {
   "cell_type": "markdown",
   "metadata": {},
   "source": [
    "## Introduction\n",
    "---"
   ]
  },
  {
   "cell_type": "markdown",
   "metadata": {},
   "source": [
    "For this report, we are using airline tweets data to develop a model that will identify sentiment.\n",
    "\n",
    "### Background\n",
    "Air-travel is a common mode of transportation for some people and can be characterized as miserable, stressful, or an overwhelming experience. Nowadays, travelers adapted to social media platforms to share their experiences, whether they are positive or negative. This data can be used to analyze the sentiment of the travelers and improve the services provided by the airlines.\n",
    "\n",
    "### Objective\n",
    "As a data scientist working for a social team of a major US airline, we are tasked with developing a classification model that will identify the sentiment of the tweets. This will alert the customer service team to respond to negative tweets and provide a better customer experience. The positive tweets would be automatically awknowledged by the system. Our goal is to develope an accurate model that will classify the sentiment of the tweets: positive, negative, or neutral.\n",
    "\n",
    "### Source\n",
    "The original data source for this report is from [Kaggle](https://www.kaggle.com/crowdflower/twitter-airline-sentiment). The dataset contains tweets from February 2015 that mention six US airlines: American, Delta, Southwest, US Airways, United, and Virgin America. The tweets are classified as positive, negative, or neutral.\n",
    ">A sentiment analysis job about the problems of each major U.S. airline. Twitter data was scraped from February of 2015 and contributors were asked to first classify positive, negative, and neutral tweets, followed by categorizing negative reasons (such as “late flight” or “rude service”).\n",
    "\n",
    "Modifications in the data used in this lab include:\n",
    "- Keeping only the `airline`, `text`, and `airline` variables"
   ]
  },
  {
   "cell_type": "markdown",
   "metadata": {},
   "source": [
    "## Methods\n",
    "---"
   ]
  },
  {
   "cell_type": "code",
   "execution_count": null,
   "metadata": {},
   "outputs": [],
   "source": [
    "# imports\n",
    "import pandas as pd\n",
    "import numpy as np\n",
    "import matplotlib.pyplot as plt\n",
    "import seaborn as sns\n",
    "from sklearn.pipeline import Pipeline\n",
    "from sklearn.compose import ColumnTransformer\n",
    "from sklearn.impute import SimpleImputer\n",
    "from sklearn.metrics import accuracy_score\n",
    "from sklearn.linear_model import LogisticRegression\n",
    "from sklearn.model_selection import GridSearchCV\n",
    "from sklearn.metrics import classification_report\n",
    "from sklearn.feature_extraction.text import TfidfVectorizer, CountVectorizer\n",
    "from sklearn.model_selection import RandomizedSearchCV"
   ]
  },
  {
   "cell_type": "markdown",
   "metadata": {},
   "source": [
    "### Data"
   ]
  },
  {
   "cell_type": "code",
   "execution_count": 2,
   "metadata": {},
   "outputs": [],
   "source": [
    "# load data\n",
    "tweets = pd.read_csv(\n",
    "    \"https://cs307.org/lab-08/data/tweets.csv\",\n",
    ")"
   ]
  },
  {
   "cell_type": "markdown",
   "metadata": {},
   "source": [
    "### Data Dictionary\n",
    "---\n",
    "\n",
    "Each observation in the train, test, and production data contains information about particular tweet.\n",
    "\n",
    "### Response\n",
    "\n",
    "**`sentiment`**\n",
    "\n",
    "- `[object]` the sentiment of a tweet.\n",
    "    - `negative`\n",
    "    - `positive`\n",
    "    - `neutral`\n",
    "\n",
    "### Features\n",
    "**`text`**\n",
    "\n",
    "- `[object]` the full text of the tweet\n",
    "\n",
    "### Additional Variables\n",
    "    \n",
    "**`airline`**\n",
    "\n",
    "- `[object]` the airline the tweet was \"sent\" to\n"
   ]
  },
  {
   "cell_type": "markdown",
   "metadata": {},
   "source": [
    "### Summary Statistics\n",
    "---"
   ]
  },
  {
   "cell_type": "code",
   "execution_count": 3,
   "metadata": {},
   "outputs": [],
   "source": [
    "tweets_train, tweets_test = train_test_split(\n",
    "    tweets,\n",
    "    test_size=0.25,\n",
    "    random_state=42,\n",
    ")\n",
    "\n",
    "# create X and y for train data\n",
    "X_train = tweets_train[\"text\"]\n",
    "y_train = tweets_train[\"sentiment\"]\n",
    "\n",
    "# create X and y for test data\n",
    "X_test = tweets_test[\"text\"]\n",
    "y_test = tweets_test[\"sentiment\"]"
   ]
  },
  {
   "cell_type": "markdown",
   "metadata": {},
   "source": [
    "The train data is displayed below. The training data has 8235 samples and 3 features. This is a large dataset making it a good candidate for training a model."
   ]
  },
  {
   "cell_type": "code",
   "execution_count": 25,
   "metadata": {},
   "outputs": [
    {
     "data": {
      "text/html": [
       "<div>\n",
       "<style scoped>\n",
       "    .dataframe tbody tr th:only-of-type {\n",
       "        vertical-align: middle;\n",
       "    }\n",
       "\n",
       "    .dataframe tbody tr th {\n",
       "        vertical-align: top;\n",
       "    }\n",
       "\n",
       "    .dataframe thead th {\n",
       "        text-align: right;\n",
       "    }\n",
       "</style>\n",
       "<table border=\"1\" class=\"dataframe\">\n",
       "  <thead>\n",
       "    <tr style=\"text-align: right;\">\n",
       "      <th></th>\n",
       "      <th>sentiment</th>\n",
       "      <th>airline</th>\n",
       "      <th>text</th>\n",
       "    </tr>\n",
       "  </thead>\n",
       "  <tbody>\n",
       "    <tr>\n",
       "      <th>2233</th>\n",
       "      <td>positive</td>\n",
       "      <td>Delta</td>\n",
       "      <td>@JetBlue Then en route to the airport the rebo...</td>\n",
       "    </tr>\n",
       "    <tr>\n",
       "      <th>10733</th>\n",
       "      <td>negative</td>\n",
       "      <td>United</td>\n",
       "      <td>@united now you've lost my bags too.  At least...</td>\n",
       "    </tr>\n",
       "    <tr>\n",
       "      <th>400</th>\n",
       "      <td>neutral</td>\n",
       "      <td>US Airways</td>\n",
       "      <td>@USAirways Hi, can you attach my AA FF# 94LXA6...</td>\n",
       "    </tr>\n",
       "    <tr>\n",
       "      <th>7615</th>\n",
       "      <td>positive</td>\n",
       "      <td>United</td>\n",
       "      <td>@United, will you fill it? Yes they will. Than...</td>\n",
       "    </tr>\n",
       "    <tr>\n",
       "      <th>4099</th>\n",
       "      <td>negative</td>\n",
       "      <td>American</td>\n",
       "      <td>@AmericanAir thanks! I hope we get movies. Tv'...</td>\n",
       "    </tr>\n",
       "    <tr>\n",
       "      <th>...</th>\n",
       "      <td>...</td>\n",
       "      <td>...</td>\n",
       "      <td>...</td>\n",
       "    </tr>\n",
       "    <tr>\n",
       "      <th>5734</th>\n",
       "      <td>negative</td>\n",
       "      <td>United</td>\n",
       "      <td>@united Can i get a refund? I would like to bo...</td>\n",
       "    </tr>\n",
       "    <tr>\n",
       "      <th>5191</th>\n",
       "      <td>neutral</td>\n",
       "      <td>Virgin America</td>\n",
       "      <td>@VirginAmerica what is your policy on flying a...</td>\n",
       "    </tr>\n",
       "    <tr>\n",
       "      <th>5390</th>\n",
       "      <td>negative</td>\n",
       "      <td>United</td>\n",
       "      <td>@united I'm not sure how you can help. Your fl...</td>\n",
       "    </tr>\n",
       "    <tr>\n",
       "      <th>860</th>\n",
       "      <td>neutral</td>\n",
       "      <td>Virgin America</td>\n",
       "      <td>@VirginAmerica LAX to EWR - Middle seat on a r...</td>\n",
       "    </tr>\n",
       "    <tr>\n",
       "      <th>7270</th>\n",
       "      <td>negative</td>\n",
       "      <td>United</td>\n",
       "      <td>@united Hopefully my baggage fees will be waiv...</td>\n",
       "    </tr>\n",
       "  </tbody>\n",
       "</table>\n",
       "<p>8235 rows × 3 columns</p>\n",
       "</div>"
      ],
      "text/plain": [
       "      sentiment         airline  \\\n",
       "2233   positive           Delta   \n",
       "10733  negative          United   \n",
       "400     neutral      US Airways   \n",
       "7615   positive          United   \n",
       "4099   negative        American   \n",
       "...         ...             ...   \n",
       "5734   negative          United   \n",
       "5191    neutral  Virgin America   \n",
       "5390   negative          United   \n",
       "860     neutral  Virgin America   \n",
       "7270   negative          United   \n",
       "\n",
       "                                                    text  \n",
       "2233   @JetBlue Then en route to the airport the rebo...  \n",
       "10733  @united now you've lost my bags too.  At least...  \n",
       "400    @USAirways Hi, can you attach my AA FF# 94LXA6...  \n",
       "7615   @United, will you fill it? Yes they will. Than...  \n",
       "4099   @AmericanAir thanks! I hope we get movies. Tv'...  \n",
       "...                                                  ...  \n",
       "5734   @united Can i get a refund? I would like to bo...  \n",
       "5191   @VirginAmerica what is your policy on flying a...  \n",
       "5390   @united I'm not sure how you can help. Your fl...  \n",
       "860    @VirginAmerica LAX to EWR - Middle seat on a r...  \n",
       "7270   @united Hopefully my baggage fees will be waiv...  \n",
       "\n",
       "[8235 rows x 3 columns]"
      ]
     },
     "execution_count": 25,
     "metadata": {},
     "output_type": "execute_result"
    }
   ],
   "source": [
    "tweets_train"
   ]
  },
  {
   "cell_type": "code",
   "execution_count": 35,
   "metadata": {},
   "outputs": [
    {
     "data": {
      "text/plain": [
       "(8235, 3)"
      ]
     },
     "execution_count": 35,
     "metadata": {},
     "output_type": "execute_result"
    }
   ],
   "source": [
    "# summary statistics\n",
    "samples = tweets_train.shape[0]\n",
    "features = tweets_train.shape[1]\n",
    "samples, features"
   ]
  },
  {
   "cell_type": "code",
   "execution_count": 26,
   "metadata": {},
   "outputs": [
    {
     "name": "stdout",
     "output_type": "stream",
     "text": [
      "United Counts:  2166\n",
      "United Proportion:  0.263023679417122\n",
      "US Airways Counts:  1664\n",
      "US Airways Proportion:  0.20206435944140863\n",
      "American Counts:  1551\n",
      "American Proportion:  0.1883424408014572\n",
      "Southwest Counts:  1347\n",
      "Southwest Proportion:  0.16357012750455374\n",
      "Delta Counts:  1239\n",
      "Delta Proportion:  0.15045537340619308\n",
      "Virgin America Counts:  268\n",
      "Virgin America Proportion:  0.03254401942926533\n"
     ]
    }
   ],
   "source": [
    "#counts and proportions\n",
    "total = len(tweets_train)\n",
    "united_counts = tweets_train.groupby(\"airline\").size()[\"United\"]\n",
    "usairways_counts = tweets_train.groupby(\"airline\").size()[\"US Airways\"]\n",
    "american_counts = tweets_train.groupby(\"airline\").size()[\"American\"]\n",
    "southwest_counts = tweets_train.groupby(\"airline\").size()[\"Southwest\"]\n",
    "delta_counts = tweets_train.groupby(\"airline\").size()[\"Delta\"]\n",
    "virginamerica_counts = tweets_train.groupby(\"airline\").size()[\"Virgin America\"]\n",
    "\n",
    "united_proportion = united_counts / total\n",
    "usairways_proportion = usairways_counts / total\n",
    "american_proportion = american_counts / total\n",
    "southwest_proportion = southwest_counts / total\n",
    "delta_proportion = delta_counts / total\n",
    "virginamerica_proportion = virginamerica_counts / total\n",
    "\n",
    "print(\"United Counts: \", united_counts)\n",
    "print(\"United Proportion: \", united_proportion)\n",
    "print(\"US Airways Counts: \", usairways_counts)\n",
    "print(\"US Airways Proportion: \", usairways_proportion)\n",
    "print(\"American Counts: \", american_counts)\n",
    "print(\"American Proportion: \", american_proportion)\n",
    "print(\"Southwest Counts: \", southwest_counts)\n",
    "print(\"Southwest Proportion: \", southwest_proportion)\n",
    "print(\"Delta Counts: \", delta_counts)\n",
    "print(\"Delta Proportion: \", delta_proportion)\n",
    "print(\"Virgin America Counts: \", virginamerica_counts)\n",
    "print(\"Virgin America Proportion: \", virginamerica_proportion)"
   ]
  },
  {
   "cell_type": "code",
   "execution_count": 27,
   "metadata": {},
   "outputs": [
    {
     "name": "stdout",
     "output_type": "stream",
     "text": [
      "The Word \"cancelled\" Appears: 595\n",
      "The Word \"please\" Appears: 325\n",
      "The Word \"thanks\" Appears: 587\n"
     ]
    }
   ],
   "source": [
    "from sklearn.feature_extraction.text import CountVectorizer\n",
    "word_counter = CountVectorizer()\n",
    "\n",
    "word_counts = word_counter.fit_transform(X_train)\n",
    "\n",
    "\n",
    "cancelled_idx = np.where(word_counter.get_feature_names_out() == \"cancelled\")\n",
    "cancelled_count = np.sum(word_counts.todense()[:, cancelled_idx])\n",
    "print('The Word \"cancelled\" Appears:', cancelled_count)\n",
    "\n",
    "please_idx = np.where(word_counter.get_feature_names_out() == \"please\")\n",
    "please_count = np.sum(word_counts.todense()[:, please_idx])\n",
    "print('The Word \"please\" Appears:', please_count)\n",
    "\n",
    "thanks_idx = np.where(word_counter.get_feature_names_out() == \"thanks\")\n",
    "thanks_count = np.sum(word_counts.todense()[:, thanks_idx])\n",
    "print('The Word \"thanks\" Appears:', thanks_count)\n"
   ]
  },
  {
   "cell_type": "code",
   "execution_count": 43,
   "metadata": {},
   "outputs": [
    {
     "data": {
      "image/png": "[encoded data removed]",
      "text/plain": [
       "<Figure size 640x480 with 1 Axes>"
      ]
     },
     "metadata": {},
     "output_type": "display_data"
    }
   ],
   "source": [
    "# visualizations\n",
    "airlines = [\"United\", \"US Airways\", \"American\", \"Southwest\", \"Delta\", \"Virgin America\"]\n",
    "counts = [united_counts, usairways_counts, american_counts, southwest_counts, delta_counts, virginamerica_counts]\n",
    "proportions = [united_proportion, usairways_proportion, american_proportion, southwest_proportion, delta_proportion, virginamerica_proportion]\n",
    "\n",
    "\n",
    "# Combine counts and proportions\n",
    "counts_and_proportions = [f\"{c} ({p:.2%})\" for c, p in zip(counts, proportions)]\n",
    "\n",
    "# Horizontal bar plot\n",
    "plt.barh(airlines, counts, color='skyblue')\n",
    "for i, (count, proportion) in enumerate(zip(counts, proportions)):\n",
    "    plt.text(count + 50, i, f\"{count} ({proportion:.2%})\", va='center')\n",
    "\n",
    "plt.xlabel(\"Number of Tweets\")\n",
    "plt.title(\"Number and Proportion of Tweets per Airline fig1\")\n",
    "plt.show()\n",
    "\n"
   ]
  },
  {
   "cell_type": "code",
   "execution_count": 44,
   "metadata": {},
   "outputs": [
    {
     "data": {
      "image/png": "[encoded data removed]",
      "text/plain": [
       "<Figure size 640x480 with 1 Axes>"
      ]
     },
     "metadata": {},
     "output_type": "display_data"
    }
   ],
   "source": [
    "# Words and their counts\n",
    "words = [\"cancelled\", \"please\", \"thanks\"]\n",
    "counts = [cancelled_count, please_count, thanks_count]\n",
    "\n",
    "# Create a bar plot\n",
    "plt.bar(words, counts, color=['teal', '#FFDAB9', '#D7BDE2'])\n",
    "plt.xlabel(\"Words\")\n",
    "plt.ylabel(\"Frequency\")\n",
    "plt.title(\"Frequency of Selected Words fig2\")\n",
    "plt.show()\n",
    "\n"
   ]
  },
  {
   "cell_type": "markdown",
   "metadata": {},
   "source": [
    "In the first figure, fig1, we see the distribution of tweets that tagged or called the different airlines. The airline with the most tweets is United, followed by US Airways, American, Southwest, Delta, and Virgin America. Plotting the proportions of tweets show that the data is not uniform which could be due to popularity, prices, or motivation to go on social media to post about an experience. \n",
    "\n",
    "In the second figure, fig2, we have a boxplot of the words: 'cancelled', 'please', and 'thanks'. Words like \"thanks\" could be positive sentiment indicators whereas \"cancelled\" could be negative sentiment indicators and suggest a customer had a bad experience or experienced flight disruptions. The boxplot shows that the word \"cancelled\" has a higher median than the other two words. This could be an indicator that the sentiment of the tweets is negative.\n",
    "\n",
    "Our visuals tell us there may be some bias in the data. For example in fig1, we see that Virgin America has the least amount of recorded tweets in either sentiment compared to United. Although this is a smaller airline, we need to consider if the proportions are balanced out compared to the airlines instead of just the proportions of all tweets. "
   ]
  },
  {
   "cell_type": "markdown",
   "metadata": {},
   "source": [
    "### Models"
   ]
  },
  {
   "cell_type": "code",
   "execution_count": null,
   "metadata": {},
   "outputs": [
    {
     "name": "stdout",
     "output_type": "stream",
     "text": [
      "Best Parameters: {'count__ngram_range': (1, 2), 'count__max_features': 20000, 'count__max_df': 0.3, 'clf__C': 0.5}\n",
      "Test Accuracy: 0.804735883424408\n",
      "Production Accuracy: 0.9662416514875531\n"
     ]
    }
   ],
   "source": [
    "#preprocessing the data\n",
    "\n",
    "pipeline = Pipeline([\n",
    "    ('count', CountVectorizer()),\n",
    "    ('clf', LogisticRegression(solver='liblinear', random_state=42))\n",
    "])\n",
    "\n",
    "# Define the hyperparameters grid with expanded range\n",
    "param_grid = {\n",
    "    'count__ngram_range': [(1, 1), (1, 2)],        \n",
    "    'count__max_df': [0.3, 0.5, 0.7],                     \n",
    "    'count__max_features': [12000, 14000, 16000, 20000],  \n",
    "    'clf__C': [0.05, 0.1, 0.5, 1.0, 2.0, 5.0, 10.0, 15.0, 20.0],      \n",
    "} \n",
    "cv = StratifiedKFold(n_splits=5, shuffle=True, random_state=42)"
   ]
  },
  {
   "cell_type": "code",
   "execution_count": null,
   "metadata": {},
   "outputs": [],
   "source": [
    "# Use RandomizedSearchCV with more iterations for wider search\n",
    "random_search = RandomizedSearchCV(\n",
    "    pipeline, param_distributions=param_grid, n_iter=150, cv=cv, scoring='accuracy', n_jobs=-1, random_state=42\n",
    ")"
   ]
  },
  {
   "cell_type": "code",
   "execution_count": null,
   "metadata": {},
   "outputs": [],
   "source": [
    "# Fit the model with RandomizedSearchCV\n",
    "random_search.fit(X_train, y_train)"
   ]
  },
  {
   "cell_type": "code",
   "execution_count": null,
   "metadata": {},
   "outputs": [],
   "source": [
    "# Get the best model and calculate accuracy\n",
    "best_model = random_search.best_estimator_\n",
    "y_pred = best_model.predict(X_test)\n",
    "\n",
    "# Calculate accuracy for test and production\n",
    "test_accuracy = accuracy_score(y_test, y_pred)\n",
    "production_accuracy = accuracy_score(y_train, best_model.predict(X_train))\n",
    "\n",
    "# Print the best parameters and accuracy scores\n",
    "print(\"Best Parameters:\", random_search.best_params_)\n",
    "print(\"Test Accuracy:\", test_accuracy)\n",
    "print(\"Production Accuracy:\", production_accuracy) "
   ]
  },
  {
   "cell_type": "markdown",
   "metadata": {},
   "source": []
  },
  {
   "cell_type": "markdown",
   "metadata": {},
   "source": [
    "## Results"
   ]
  },
  {
   "cell_type": "code",
   "execution_count": null,
   "metadata": {},
   "outputs": [],
   "source": [
    "# report model metrics"
   ]
  },
  {
   "cell_type": "markdown",
   "metadata": {},
   "source": []
  },
  {
   "cell_type": "markdown",
   "metadata": {},
   "source": [
    "## Discussion"
   ]
  },
  {
   "cell_type": "markdown",
   "metadata": {},
   "source": []
  },
  {
   "cell_type": "markdown",
   "metadata": {},
   "source": [
    "### Conclusion"
   ]
  },
  {
   "cell_type": "markdown",
   "metadata": {},
   "source": []
  }
 ],
 "metadata": {
  "kernelspec": {
   "display_name": "base",
   "language": "python",
   "name": "python3"
  },
  "language_info": {
   "codemirror_mode": {
    "name": "ipython",
    "version": 3
   },
   "file_extension": ".py",
   "mimetype": "text/x-python",
   "name": "python",
   "nbconvert_exporter": "python",
   "pygments_lexer": "ipython3",
   "version": "3.11.4"
  }
 },
 "nbformat": 4,
 "nbformat_minor": 2
}
