{
 "cells": [
  {
   "cell_type": "markdown",
   "metadata": {},
   "source": [
    "# Lab 02: Credit Ratings"
   ]
  },
  {
   "cell_type": "markdown",
   "metadata": {},
   "source": [
    "---\n",
    "author: Alejandra Arias\n",
    "date: September 13, 2024\n",
    "embed-resources: true\n",
    "---"
   ]
  },
  {
   "cell_type": "markdown",
   "metadata": {},
   "source": [
    "## Introduction"
   ]
  },
  {
   "cell_type": "markdown",
   "metadata": {},
   "source": []
  },
  {
   "cell_type": "markdown",
   "metadata": {},
   "source": [
    "## Methods"
   ]
  },
  {
   "cell_type": "code",
   "execution_count": 1,
   "metadata": {},
   "outputs": [],
   "source": [
    "# imports\n",
    "import pandas as pd"
   ]
  },
  {
   "cell_type": "markdown",
   "metadata": {},
   "source": [
    "### Data"
   ]
  },
  {
   "cell_type": "code",
   "execution_count": 5,
   "metadata": {},
   "outputs": [
    {
     "data": {
      "text/html": [
       "<div>\n",
       "<style scoped>\n",
       "    .dataframe tbody tr th:only-of-type {\n",
       "        vertical-align: middle;\n",
       "    }\n",
       "\n",
       "    .dataframe tbody tr th {\n",
       "        vertical-align: top;\n",
       "    }\n",
       "\n",
       "    .dataframe thead th {\n",
       "        text-align: right;\n",
       "    }\n",
       "</style>\n",
       "<table border=\"1\" class=\"dataframe\">\n",
       "  <thead>\n",
       "    <tr style=\"text-align: right;\">\n",
       "      <th></th>\n",
       "      <th>Rating</th>\n",
       "      <th>Income</th>\n",
       "      <th>Age</th>\n",
       "      <th>Education</th>\n",
       "      <th>Gender</th>\n",
       "      <th>Student</th>\n",
       "      <th>Married</th>\n",
       "      <th>Ethnicity</th>\n",
       "    </tr>\n",
       "  </thead>\n",
       "  <tbody>\n",
       "    <tr>\n",
       "      <th>0</th>\n",
       "      <td>257.0</td>\n",
       "      <td>44.473</td>\n",
       "      <td>81.0</td>\n",
       "      <td>16.0</td>\n",
       "      <td>Female</td>\n",
       "      <td>No</td>\n",
       "      <td>No</td>\n",
       "      <td>NaN</td>\n",
       "    </tr>\n",
       "    <tr>\n",
       "      <th>1</th>\n",
       "      <td>353.0</td>\n",
       "      <td>41.532</td>\n",
       "      <td>50.0</td>\n",
       "      <td>NaN</td>\n",
       "      <td>Male</td>\n",
       "      <td>No</td>\n",
       "      <td>Yes</td>\n",
       "      <td>Caucasian</td>\n",
       "    </tr>\n",
       "    <tr>\n",
       "      <th>2</th>\n",
       "      <td>388.0</td>\n",
       "      <td>16.479</td>\n",
       "      <td>26.0</td>\n",
       "      <td>16.0</td>\n",
       "      <td>Male</td>\n",
       "      <td>NaN</td>\n",
       "      <td>No</td>\n",
       "      <td>NaN</td>\n",
       "    </tr>\n",
       "    <tr>\n",
       "      <th>3</th>\n",
       "      <td>321.0</td>\n",
       "      <td>10.793</td>\n",
       "      <td>29.0</td>\n",
       "      <td>13.0</td>\n",
       "      <td>Male</td>\n",
       "      <td>No</td>\n",
       "      <td>No</td>\n",
       "      <td>Caucasian</td>\n",
       "    </tr>\n",
       "    <tr>\n",
       "      <th>4</th>\n",
       "      <td>367.0</td>\n",
       "      <td>76.273</td>\n",
       "      <td>65.0</td>\n",
       "      <td>14.0</td>\n",
       "      <td>Female</td>\n",
       "      <td>No</td>\n",
       "      <td>Yes</td>\n",
       "      <td>Caucasian</td>\n",
       "    </tr>\n",
       "    <tr>\n",
       "      <th>...</th>\n",
       "      <td>...</td>\n",
       "      <td>...</td>\n",
       "      <td>...</td>\n",
       "      <td>...</td>\n",
       "      <td>...</td>\n",
       "      <td>...</td>\n",
       "      <td>...</td>\n",
       "      <td>...</td>\n",
       "    </tr>\n",
       "    <tr>\n",
       "      <th>251</th>\n",
       "      <td>268.0</td>\n",
       "      <td>26.370</td>\n",
       "      <td>78.0</td>\n",
       "      <td>11.0</td>\n",
       "      <td>Male</td>\n",
       "      <td>No</td>\n",
       "      <td>Yes</td>\n",
       "      <td>Asian</td>\n",
       "    </tr>\n",
       "    <tr>\n",
       "      <th>252</th>\n",
       "      <td>433.0</td>\n",
       "      <td>26.427</td>\n",
       "      <td>50.0</td>\n",
       "      <td>15.0</td>\n",
       "      <td>Female</td>\n",
       "      <td>Yes</td>\n",
       "      <td>Yes</td>\n",
       "      <td>Asian</td>\n",
       "    </tr>\n",
       "    <tr>\n",
       "      <th>253</th>\n",
       "      <td>259.0</td>\n",
       "      <td>12.031</td>\n",
       "      <td>58.0</td>\n",
       "      <td>18.0</td>\n",
       "      <td>Female</td>\n",
       "      <td>NaN</td>\n",
       "      <td>Yes</td>\n",
       "      <td>Caucasian</td>\n",
       "    </tr>\n",
       "    <tr>\n",
       "      <th>254</th>\n",
       "      <td>335.0</td>\n",
       "      <td>80.861</td>\n",
       "      <td>29.0</td>\n",
       "      <td>15.0</td>\n",
       "      <td>Female</td>\n",
       "      <td>No</td>\n",
       "      <td>Yes</td>\n",
       "      <td>Asian</td>\n",
       "    </tr>\n",
       "    <tr>\n",
       "      <th>255</th>\n",
       "      <td>93.0</td>\n",
       "      <td>15.717</td>\n",
       "      <td>38.0</td>\n",
       "      <td>16.0</td>\n",
       "      <td>Male</td>\n",
       "      <td>Yes</td>\n",
       "      <td>Yes</td>\n",
       "      <td>Caucasian</td>\n",
       "    </tr>\n",
       "  </tbody>\n",
       "</table>\n",
       "<p>256 rows × 8 columns</p>\n",
       "</div>"
      ],
      "text/plain": [
       "     Rating  Income   Age  Education  Gender Student Married  Ethnicity\n",
       "0     257.0  44.473  81.0       16.0  Female      No      No        NaN\n",
       "1     353.0  41.532  50.0        NaN    Male      No     Yes  Caucasian\n",
       "2     388.0  16.479  26.0       16.0    Male     NaN      No        NaN\n",
       "3     321.0  10.793  29.0       13.0    Male      No      No  Caucasian\n",
       "4     367.0  76.273  65.0       14.0  Female      No     Yes  Caucasian\n",
       "..      ...     ...   ...        ...     ...     ...     ...        ...\n",
       "251   268.0  26.370  78.0       11.0    Male      No     Yes      Asian\n",
       "252   433.0  26.427  50.0       15.0  Female     Yes     Yes      Asian\n",
       "253   259.0  12.031  58.0       18.0  Female     NaN     Yes  Caucasian\n",
       "254   335.0  80.861  29.0       15.0  Female      No     Yes      Asian\n",
       "255    93.0  15.717  38.0       16.0    Male     Yes     Yes  Caucasian\n",
       "\n",
       "[256 rows x 8 columns]"
      ]
     },
     "execution_count": 5,
     "metadata": {},
     "output_type": "execute_result"
    }
   ],
   "source": [
    "# load data\n",
    "credit_train = pd.read_csv(\"https://cs307.org/lab-02/data/credit-train.csv\")\n",
    "credit_test = pd.read_csv(\"https://cs307.org/lab-02/data/credit-test.csv\")\n",
    "credit_train"
   ]
  },
  {
   "cell_type": "markdown",
   "metadata": {},
   "source": []
  },
  {
   "cell_type": "code",
   "execution_count": 4,
   "metadata": {},
   "outputs": [
    {
     "data": {
      "text/plain": [
       "(256, 7)"
      ]
     },
     "execution_count": 4,
     "metadata": {},
     "output_type": "execute_result"
    }
   ],
   "source": [
    "# summary statistics\n",
    "samples = credit_train.shape[0]\n",
    "features = credit_train.shape[1] - 1\n",
    "samples, features"
   ]
  },
  {
   "cell_type": "code",
   "execution_count": 22,
   "metadata": {},
   "outputs": [
    {
     "data": {
      "text/plain": [
       "(347.609375, 148.8931046679028)"
      ]
     },
     "execution_count": 22,
     "metadata": {},
     "output_type": "execute_result"
    }
   ],
   "source": [
    "rating = credit_train[\"Rating\"].mean()\n",
    "ratstd = credit_train[\"Rating\"].std()\n",
    "rating, ratstd"
   ]
  },
  {
   "cell_type": "code",
   "execution_count": 9,
   "metadata": {},
   "outputs": [
    {
     "data": {
      "text/plain": [
       "(         Rating\n",
       " Student        \n",
       " No          213\n",
       " Yes          19,\n",
       " Student\n",
       " No     349.511737\n",
       " Yes    338.473684\n",
       " Name: Rating, dtype: float64,\n",
       " Student\n",
       " No     148.003525\n",
       " Yes    149.164476\n",
       " Name: Rating, dtype: float64)"
      ]
     },
     "execution_count": 9,
     "metadata": {},
     "output_type": "execute_result"
    }
   ],
   "source": [
    "rating_counts = credit_train[[\"Rating\", \"Student\"]].groupby(\"Student\").count()\n",
    "rating_mean = credit_train[\"Rating\"].groupby(credit_train[\"Student\"]).mean()\n",
    "rating_std = credit_train[\"Rating\"].groupby(credit_train[\"Student\"]).std()\n",
    "rating_counts, rating_mean, rating_std"
   ]
  },
  {
   "cell_type": "code",
   "execution_count": 11,
   "metadata": {},
   "outputs": [
    {
     "data": {
      "text/plain": [
       "(         Rating\n",
       " Married        \n",
       " No           98\n",
       " Yes         158,\n",
       " Married\n",
       " No     329.397959\n",
       " Yes    358.905063\n",
       " Name: Rating, dtype: float64,\n",
       " Married\n",
       " No     132.039649\n",
       " Yes    157.797935\n",
       " Name: Rating, dtype: float64)"
      ]
     },
     "execution_count": 11,
     "metadata": {},
     "output_type": "execute_result"
    }
   ],
   "source": [
    "marriage_counts = credit_train[[\"Married\", \"Rating\"]].groupby(\"Married\").count()\n",
    "marriage_mean = credit_train[\"Rating\"].groupby(credit_train[\"Married\"]).mean()\n",
    "marriage_std = credit_train[\"Rating\"].groupby(credit_train[\"Married\"]).std()\n",
    "marriage_counts, marriage_mean, marriage_std"
   ]
  },
  {
   "cell_type": "code",
   "execution_count": 17,
   "metadata": {},
   "outputs": [
    {
     "data": {
      "text/plain": [
       "0.7708422040157111"
      ]
     },
     "execution_count": 17,
     "metadata": {},
     "output_type": "execute_result"
    }
   ],
   "source": [
    "income_correlation = credit_train[[\"Income\", \"Rating\"]].corr().iloc[0, 1]\n",
    "income_correlation"
   ]
  },
  {
   "cell_type": "code",
   "execution_count": null,
   "metadata": {},
   "outputs": [],
   "source": [
    "age_correlation = credit_train[\"Rating\"].corr(credit_train[\"Age\"])\n",
    "age_correlation"
   ]
  },
  {
   "cell_type": "code",
   "execution_count": 28,
   "metadata": {},
   "outputs": [
    {
     "data": {
      "text/plain": [
       "0     81.0\n",
       "1     50.0\n",
       "2     26.0\n",
       "3     29.0\n",
       "4     65.0\n",
       "5     77.0\n",
       "6     38.0\n",
       "7     35.0\n",
       "8     77.0\n",
       "9     67.0\n",
       "10    58.0\n",
       "11     NaN\n",
       "12    73.0\n",
       "13    31.0\n",
       "14    79.0\n",
       "Name: Age, dtype: float64"
      ]
     },
     "execution_count": 28,
     "metadata": {},
     "output_type": "execute_result"
    }
   ],
   "source": [
    "credit_train[\"Age\"].head(15)"
   ]
  },
  {
   "cell_type": "code",
   "execution_count": 29,
   "metadata": {},
   "outputs": [
    {
     "data": {
      "text/plain": [
       "(0.0, 0.0, 0.12890625, 0.09765625, 0.0234375, 0.09375, 0.0, 0.09765625)"
      ]
     },
     "execution_count": 29,
     "metadata": {},
     "output_type": "execute_result"
    }
   ],
   "source": [
    "rating_missing = credit_train[\"Rating\"].isnull().sum() / samples\n",
    "income_missing = credit_train[\"Income\"].isnull().sum() / samples\n",
    "age_missing = credit_train[\"Age\"].isnull().sum() /  samples\n",
    "education_missing = credit_train[\"Education\"].isnull().sum() / samples\n",
    "gender_missing = credit_train[\"Gender\"].isnull().sum() / samples\n",
    "student_missing = credit_train[\"Student\"].isnull().sum() /  samples\n",
    "married_missing = credit_train[\"Married\"].isnull().sum() / samples\n",
    "ethnicitiy_missing = credit_train[\"Ethnicity\"].isnull().sum() / samples\n",
    "rating_missing, income_missing, age_missing, education_missing, gender_missing, student_missing, married_missing, ethnicitiy_missing"
   ]
  },
  {
   "cell_type": "code",
   "execution_count": null,
   "metadata": {},
   "outputs": [],
   "source": [
    "# visualizations"
   ]
  },
  {
   "cell_type": "markdown",
   "metadata": {},
   "source": []
  },
  {
   "cell_type": "markdown",
   "metadata": {},
   "source": [
    "### Models"
   ]
  },
  {
   "cell_type": "code",
   "execution_count": null,
   "metadata": {},
   "outputs": [],
   "source": [
    "# process data for ML\n",
    "# create X and y for train\n",
    "X_train = credit_train.drop(\"Rating\", axis=1)\n",
    "y_train = credit_train[\"Rating\"]\n",
    "\n",
    "# create X and y for test\n",
    "X_test = credit_test.drop(\"Rating\", axis=1)\n",
    "y_test = credit_test[\"Rating\"]"
   ]
  },
  {
   "cell_type": "code",
   "execution_count": null,
   "metadata": {},
   "outputs": [],
   "source": [
    "# train models"
   ]
  },
  {
   "cell_type": "markdown",
   "metadata": {},
   "source": []
  },
  {
   "cell_type": "markdown",
   "metadata": {},
   "source": [
    "## Results"
   ]
  },
  {
   "cell_type": "code",
   "execution_count": null,
   "metadata": {},
   "outputs": [],
   "source": [
    "# report model metrics"
   ]
  },
  {
   "cell_type": "markdown",
   "metadata": {},
   "source": []
  },
  {
   "cell_type": "markdown",
   "metadata": {},
   "source": [
    "## Discussion"
   ]
  },
  {
   "cell_type": "markdown",
   "metadata": {},
   "source": []
  },
  {
   "cell_type": "markdown",
   "metadata": {},
   "source": [
    "### Conclusion"
   ]
  },
  {
   "cell_type": "markdown",
   "metadata": {},
   "source": []
  }
 ],
 "metadata": {
  "kernelspec": {
   "display_name": "base",
   "language": "python",
   "name": "python3"
  },
  "language_info": {
   "codemirror_mode": {
    "name": "ipython",
    "version": 3
   },
   "file_extension": ".py",
   "mimetype": "text/x-python",
   "name": "python",
   "nbconvert_exporter": "python",
   "pygments_lexer": "ipython3",
   "version": "3.11.4"
  }
 },
 "nbformat": 4,
 "nbformat_minor": 2
}
