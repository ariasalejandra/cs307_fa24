{
 "cells": [
  {
   "cell_type": "code",
   "execution_count": 6,
   "metadata": {},
   "outputs": [
    {
     "data": {
      "text/plain": [
       "(90732.584, 63436.42380952381, 67769.14333333334)"
      ]
     },
     "execution_count": 6,
     "metadata": {},
     "output_type": "execute_result"
    }
   ],
   "source": [
    "import numpy as np\n",
    "X = np.array([[4.57, 5.79, 3.87, 5.52],\n",
    "              [4.67, 4.8 , 6.14, 5.75],\n",
    "              [4.13, 4.87, 4.47, 4.21],\n",
    "              [5.93, 4.09, 4.17, 3.44],\n",
    "              [4.64, 4.04, 4.04, 4.57],\n",
    "              [3.19, 3.31, 4.36, 5.88],\n",
    "              [6.58, 5.16, 6.7 , 5.46],\n",
    "              [4.85, 5.03, 5.01, 5.15],\n",
    "              [4.65, 6.12, 6.43, 4.36],\n",
    "              [4.28, 6.04, 4.69, 4.21]])\n",
    "y = np.array([11.8, 53.2, -125.9, -109.6, -115.5, -134.9, 178.8, 3., 19.2, -63.7])\n",
    "# Calculate SST\n",
    "y_mean = np.mean(y)\n",
    "SST = np.sum((y - y_mean) ** 2)\n",
    "\n",
    "# Tree One Split: x1 <= 4.8\n",
    "region1_tree1_indices = np.where(X[:, 0] <= 4.5)[0]\n",
    "region2_tree1_indices = np.where(X[:, 0] > 4.5)[0]\n",
    "\n",
    "region1_tree1_y = y[region1_tree1_indices]\n",
    "region2_tree1_y = y[region2_tree1_indices]\n",
    "\n",
    "region1_tree1_mean = np.mean(region1_tree1_y)\n",
    "region2_tree1_mean = np.mean(region2_tree1_y)\n",
    "\n",
    "SSE_tree1 = np.sum((region1_tree1_y - region1_tree1_mean) ** 2) + np.sum((region2_tree1_y - region2_tree1_mean) ** 2)\n",
    "\n",
    "# Tree Two Split: x2 <= 4.9\n",
    "region1_tree2_indices = np.where(X[:, 2] <= 4.4)[0]\n",
    "region2_tree2_indices = np.where(X[:, 2] > 4.4)[0]\n",
    "\n",
    "region1_tree2_y = y[region1_tree2_indices]\n",
    "region2_tree2_y = y[region2_tree2_indices]\n",
    "\n",
    "region1_tree2_mean = np.mean(region1_tree2_y)\n",
    "region2_tree2_mean = np.mean(region2_tree2_y)\n",
    "\n",
    "SSE_tree2 = np.sum((region1_tree2_y - region1_tree2_mean) ** 2) + np.sum((region2_tree2_y - region2_tree2_mean) ** 2)\n",
    "\n",
    "SST, SSE_tree1, SSE_tree2"
   ]
  },
  {
   "cell_type": "code",
   "execution_count": 7,
   "metadata": {},
   "outputs": [
    {
     "data": {
      "text/plain": [
       "(0.6111111111111112, 0.625, 0.53125, 0.5625)"
      ]
     },
     "execution_count": 7,
     "metadata": {},
     "output_type": "execute_result"
    }
   ],
   "source": [
    "import numpy as np\n",
    "\n",
    "# Data\n",
    "x = np.array([0.6, 0.8, 1.9, 2.0, 2.4, 2.5, 3.6, 4.3, 4.6, 6.3, 8.5, 9.0])\n",
    "y = np.array([2, 1, 0, 1, 2, 1, 1, 0, 0, 0, 0, 0])\n",
    "\n",
    "# Helper function to calculate proportions\n",
    "def get_proportions(y):\n",
    "    counts = np.array([np.sum(y == i) for i in np.unique(y)])\n",
    "    return counts / len(y)\n",
    "\n",
    "# Helper function to calculate Gini impurity\n",
    "def gini_impurity(y):\n",
    "    proportions = get_proportions(y)\n",
    "    return 1 - np.sum(proportions ** 2)\n",
    "\n",
    "# Split at x <= 2.3\n",
    "left_indices = np.where(x <= 2.3)[0]\n",
    "right_indices = np.where(x > 2.3)[0]\n",
    "\n",
    "y_left = y[left_indices]\n",
    "y_right = y[right_indices]\n",
    "\n",
    "# Calculating Gini impurities\n",
    "root_gini = gini_impurity(y)\n",
    "left_gini = gini_impurity(y_left)\n",
    "right_gini = gini_impurity(y_right)\n",
    "\n",
    "# Weighted average of left and right Gini impurities (Tree Gini)\n",
    "tree_gini = (len(y_left) / len(y)) * left_gini + (len(y_right) / len(y)) * right_gini\n",
    "\n",
    "root_gini, left_gini, right_gini, tree_gini\n"
   ]
  },
  {
   "cell_type": "code",
   "execution_count": 8,
   "metadata": {},
   "outputs": [
    {
     "name": "stdout",
     "output_type": "stream",
     "text": [
      "Root Node Entropy: 1.4591479126991596\n",
      "Left Node Entropy: 1.3709505901265835\n",
      "Right Node Entropy: 1.4488156313970995\n",
      "Tree Entropy: 1.4163718642010512\n"
     ]
    }
   ],
   "source": [
    "import numpy as np\n",
    "\n",
    "# Data\n",
    "x = np.array([0.1, 0.3, 0.9, 1.7, 2.3, 4.0, 4.1, 6.0, 7.8, 8.5, 8.6, 9.6])\n",
    "y = np.array([2, 1, 0, 2, 2, 2, 2, 0, 0, 2, 0, 1])\n",
    "\n",
    "# Helper function to calculate proportions\n",
    "def get_proportions(y):\n",
    "    counts = np.array([np.sum(y == i) for i in np.unique(y)])\n",
    "    return counts / len(y)\n",
    "\n",
    "# Helper function to calculate entropy\n",
    "def entropy(y):\n",
    "    proportions = get_proportions(y)\n",
    "    return -np.sum(proportions * np.log2(proportions + 1e-9))  # Add small value to avoid log(0)\n",
    "\n",
    "# Split data at x <= 3.8\n",
    "left_indices = np.where(x <= 3.8)[0]\n",
    "right_indices = np.where(x > 3.8)[0]\n",
    "\n",
    "y_left = y[left_indices]\n",
    "y_right = y[right_indices]\n",
    "\n",
    "# Calculate entropies\n",
    "root_entropy = entropy(y)\n",
    "left_entropy = entropy(y_left)\n",
    "right_entropy = entropy(y_right)\n",
    "\n",
    "# Weighted average entropy for the tree (Tree Entropy)\n",
    "tree_entropy = (len(y_left) / len(y)) * left_entropy + (len(y_right) / len(y)) * right_entropy\n",
    "\n",
    "print(\"Root Node Entropy:\", root_entropy)\n",
    "print(\"Left Node Entropy:\", left_entropy)\n",
    "print(\"Right Node Entropy:\", right_entropy)\n",
    "print(\"Tree Entropy:\", tree_entropy)\n"
   ]
  },
  {
   "cell_type": "code",
   "execution_count": 22,
   "metadata": {},
   "outputs": [
    {
     "data": {
      "text/plain": [
       "0.43283783975218554"
      ]
     },
     "execution_count": 22,
     "metadata": {},
     "output_type": "execute_result"
    }
   ],
   "source": [
    "from scipy.stats import norm\n",
    "mean = 7\n",
    "std = 3.2\n",
    "x1 = 4.55\n",
    "x2 = 8.98\n",
    "x3 = 3.23\n",
    "x4 = 7.42\n",
    "p1 = (x1 - mean) / std\n",
    "p2 = (x2 - mean) / std\n",
    "p2 = 1 - norm.cdf(p2)\n",
    "p3_1 = (x3 - mean) / std\n",
    "p3_2 = (x4 - mean) / std\n",
    "p3 = norm.cdf(p3_2) - norm.cdf(p3_1)\n",
    "p3"
   ]
  },
  {
   "cell_type": "code",
   "execution_count": 33,
   "metadata": {},
   "outputs": [
    {
     "data": {
      "text/plain": [
       "8.613333333333333"
      ]
     },
     "execution_count": 33,
     "metadata": {},
     "output_type": "execute_result"
    }
   ],
   "source": [
    "import numpy as np\n",
    "X = np.array([[ 3.08,  7.47],\n",
    "              [ 2.41,  7.86],\n",
    "              [ 1.52,  8.96],\n",
    "              [ 2.93,  7.13],\n",
    "              [  np.nan,  9.25],\n",
    "              [ 3.  ,   np.nan],\n",
    "              [ 1.21,  9.44],\n",
    "              [ 1.32,  9.29],\n",
    "              [ 2.94,  7.53],\n",
    "              [ 3.85, 10.59]])\n",
    "\n",
    "mean1 = np.nanmean(X[:, 0])\n",
    "mean1\n",
    "mean2 = np.nanmean(X[:, 1])\n",
    "mean2"
   ]
  },
  {
   "cell_type": "code",
   "execution_count": 3,
   "metadata": {},
   "outputs": [
    {
     "name": "stdout",
     "output_type": "stream",
     "text": [
      "5-Fold Cross-Validated MAE: 0.48649999999999993\n"
     ]
    }
   ],
   "source": [
    "import numpy as np\n",
    "from sklearn.model_selection import KFold, cross_val_score\n",
    "from sklearn.neighbors import KNeighborsRegressor\n",
    "from sklearn.metrics import make_scorer, mean_absolute_error\n",
    "\n",
    "# Training data\n",
    "data = np.array([\n",
    "    [6.09, 0.28, 0.63],\n",
    "    [5.08, 0.50, 0.12],\n",
    "    [6.23, 0.68, 0.32],\n",
    "    [6.51, 0.47, 0.58],\n",
    "    [4.86, 0.19, 0.34]\n",
    "])\n",
    "\n",
    "# Splitting features (X) and target (y)\n",
    "y = data[:, :-1]  # Features: first two columns\n",
    "x = data[:, -1]   # Target: last column\n",
    "\n",
    "# Initialize KNN regressor\n",
    "knn = KNeighborsRegressor(n_neighbors=4)\n",
    "\n",
    "# Set up 5-Fold Cross Validation\n",
    "kf = KFold(n_splits=5, shuffle=True, random_state=1)\n",
    "\n",
    "# Define MAE scorer\n",
    "mae_scorer = make_scorer(mean_absolute_error)\n",
    "\n",
    "# Perform cross-validation and calculate MAE\n",
    "mae_scores = cross_val_score(knn, X, y, cv=kf, scoring=mae_scorer)\n",
    "\n",
    "# Calculate mean MAE across all folds\n",
    "mean_mae = mae_scores.mean()\n",
    "\n",
    "print(\"5-Fold Cross-Validated MAE:\", mean_mae)\n"
   ]
  },
  {
   "cell_type": "code",
   "execution_count": 5,
   "metadata": {},
   "outputs": [
    {
     "data": {
      "text/plain": [
       "12.59"
      ]
     },
     "execution_count": 5,
     "metadata": {},
     "output_type": "execute_result"
    }
   ],
   "source": [
    "import numpy as np\n",
    "x = np.array([ 1,  2,  3,  4,  5,  6,  7,  8,  9, 10])\n",
    "y = np.array([ 3. ,  4.6,  8.2, 10.4, 11.1, 14. , 16.2, 18.3, 19.5, 20.6])\n",
    "ymean = y.mean()\n",
    "ymean"
   ]
  },
  {
   "cell_type": "code",
   "execution_count": null,
   "metadata": {},
   "outputs": [],
   "source": []
  }
 ],
 "metadata": {
  "kernelspec": {
   "display_name": "base",
   "language": "python",
   "name": "python3"
  },
  "language_info": {
   "codemirror_mode": {
    "name": "ipython",
    "version": 3
   },
   "file_extension": ".py",
   "mimetype": "text/x-python",
   "name": "python",
   "nbconvert_exporter": "python",
   "pygments_lexer": "ipython3",
   "version": "3.11.4"
  }
 },
 "nbformat": 4,
 "nbformat_minor": 2
}
